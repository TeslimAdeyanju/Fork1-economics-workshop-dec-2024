{
 "cells": [
  {
   "cell_type": "markdown",
   "metadata": {},
   "source": [
    "# 1) Daily Stats S&P500 using yfinance API\n",
    "* API: https://pypi.org/project/yfinance/ \n",
    "* Check the stats in the UI: https://finance.yahoo.com/quote/%5EGSPC"
   ]
  },
  {
   "cell_type": "code",
   "execution_count": 20,
   "metadata": {},
   "outputs": [],
   "source": [
    "import yfinance as yf\n",
    "from pandas_datareader import data as pdr\n",
    "\n",
    "import pandas as pd\n",
    "import numpy as np\n",
    "import matplotlib.pyplot as plt\n",
    "from datetime import datetime, timedelta"
   ]
  },
  {
   "cell_type": "code",
   "execution_count": 21,
   "metadata": {},
   "outputs": [
    {
     "name": "stdout",
     "output_type": "stream",
     "text": [
      "Downloading historical data...\n",
      "[*********************100%%**********************]  1 of 1 completed\n"
     ]
    }
   ],
   "source": [
    "# Download historical data for SNP500 using YFinance\n",
    "# https://finance.yahoo.com/quote/%5EGSPC\n",
    "tickers = ['^GSPC']\n",
    "\n",
    "start_date = \"2000-01-01\"\n",
    "end_date = datetime.now().strftime('%Y-%m-%d')\n",
    "\n",
    "print(\"Downloading historical data...\")\n",
    "yf_snp500_df = yf.download(tickers, \n",
    "                   start=start_date, \n",
    "                   end=end_date)\n",
    "                #    multi_level_index=False)\n",
    "\n",
    "# Get latest prices from the downloaded data\n",
    "latest_date = yf_snp500_df.index[-1]\n",
    "latest_prices = yf_snp500_df.iloc[-1]"
   ]
  },
  {
   "cell_type": "code",
   "execution_count": 22,
   "metadata": {},
   "outputs": [
    {
     "data": {
      "text/plain": [
       "Index(['Open', 'High', 'Low', 'Close', 'Adj Close', 'Volume'], dtype='object')"
      ]
     },
     "execution_count": 22,
     "metadata": {},
     "output_type": "execute_result"
    }
   ],
   "source": [
    "yf_snp500_df.keys()"
   ]
  },
  {
   "cell_type": "code",
   "execution_count": 23,
   "metadata": {},
   "outputs": [
    {
     "data": {
      "text/html": [
       "<div>\n",
       "<style scoped>\n",
       "    .dataframe tbody tr th:only-of-type {\n",
       "        vertical-align: middle;\n",
       "    }\n",
       "\n",
       "    .dataframe tbody tr th {\n",
       "        vertical-align: top;\n",
       "    }\n",
       "\n",
       "    .dataframe thead th {\n",
       "        text-align: right;\n",
       "    }\n",
       "</style>\n",
       "<table border=\"1\" class=\"dataframe\">\n",
       "  <thead>\n",
       "    <tr style=\"text-align: right;\">\n",
       "      <th></th>\n",
       "      <th>Open</th>\n",
       "      <th>High</th>\n",
       "      <th>Low</th>\n",
       "      <th>Close</th>\n",
       "      <th>Adj Close</th>\n",
       "      <th>Volume</th>\n",
       "    </tr>\n",
       "    <tr>\n",
       "      <th>Date</th>\n",
       "      <th></th>\n",
       "      <th></th>\n",
       "      <th></th>\n",
       "      <th></th>\n",
       "      <th></th>\n",
       "      <th></th>\n",
       "    </tr>\n",
       "  </thead>\n",
       "  <tbody>\n",
       "    <tr>\n",
       "      <th>2024-11-22</th>\n",
       "      <td>5944.359863</td>\n",
       "      <td>5972.899902</td>\n",
       "      <td>5944.359863</td>\n",
       "      <td>5969.339844</td>\n",
       "      <td>5969.339844</td>\n",
       "      <td>4141420000</td>\n",
       "    </tr>\n",
       "    <tr>\n",
       "      <th>2024-11-25</th>\n",
       "      <td>5992.279785</td>\n",
       "      <td>6020.750000</td>\n",
       "      <td>5963.910156</td>\n",
       "      <td>5987.370117</td>\n",
       "      <td>5987.370117</td>\n",
       "      <td>5633150000</td>\n",
       "    </tr>\n",
       "    <tr>\n",
       "      <th>2024-11-26</th>\n",
       "      <td>6000.029785</td>\n",
       "      <td>6025.419922</td>\n",
       "      <td>5992.270020</td>\n",
       "      <td>6021.629883</td>\n",
       "      <td>6021.629883</td>\n",
       "      <td>3835170000</td>\n",
       "    </tr>\n",
       "    <tr>\n",
       "      <th>2024-11-27</th>\n",
       "      <td>6014.109863</td>\n",
       "      <td>6020.160156</td>\n",
       "      <td>5984.870117</td>\n",
       "      <td>5998.740234</td>\n",
       "      <td>5998.740234</td>\n",
       "      <td>3363340000</td>\n",
       "    </tr>\n",
       "    <tr>\n",
       "      <th>2024-11-29</th>\n",
       "      <td>6003.979980</td>\n",
       "      <td>6044.169922</td>\n",
       "      <td>6003.979980</td>\n",
       "      <td>6032.379883</td>\n",
       "      <td>6032.379883</td>\n",
       "      <td>2444420000</td>\n",
       "    </tr>\n",
       "  </tbody>\n",
       "</table>\n",
       "</div>"
      ],
      "text/plain": [
       "                   Open         High          Low        Close    Adj Close  \\\n",
       "Date                                                                          \n",
       "2024-11-22  5944.359863  5972.899902  5944.359863  5969.339844  5969.339844   \n",
       "2024-11-25  5992.279785  6020.750000  5963.910156  5987.370117  5987.370117   \n",
       "2024-11-26  6000.029785  6025.419922  5992.270020  6021.629883  6021.629883   \n",
       "2024-11-27  6014.109863  6020.160156  5984.870117  5998.740234  5998.740234   \n",
       "2024-11-29  6003.979980  6044.169922  6003.979980  6032.379883  6032.379883   \n",
       "\n",
       "                Volume  \n",
       "Date                    \n",
       "2024-11-22  4141420000  \n",
       "2024-11-25  5633150000  \n",
       "2024-11-26  3835170000  \n",
       "2024-11-27  3363340000  \n",
       "2024-11-29  2444420000  "
      ]
     },
     "execution_count": 23,
     "metadata": {},
     "output_type": "execute_result"
    }
   ],
   "source": [
    "yf_snp500_df.tail()"
   ]
  },
  {
   "cell_type": "code",
   "execution_count": 24,
   "metadata": {},
   "outputs": [
    {
     "data": {
      "text/plain": [
       "<Axes: title={'center': 'S&P500 Daily Close Price from 2020'}, xlabel='Date'>"
      ]
     },
     "execution_count": 24,
     "metadata": {},
     "output_type": "execute_result"
    },
    {
     "data": {
      "image/png": "[encoded data removed]",
      "text/plain": [
       "<Figure size 640x480 with 1 Axes>"
      ]
     },
     "metadata": {},
     "output_type": "display_data"
    }
   ],
   "source": [
    "yf_snp500_df['Close'].plot.line(title=\"S&P500 Daily Close Price from 2020\")"
   ]
  },
  {
   "cell_type": "markdown",
   "metadata": {},
   "source": [
    "## 2) Daily S&P 500 stats using Pandas DataReader from FRED (Federal Reserve Bank of St. Louis)\n",
    "* FRED is a database of over 267,000 economic time series from 80 sources\n",
    "* it is a Python wrapper of FRED's API  \n",
    "* if you want to download directly from API, here is an example: https://datons.ai/download-and-analyze-fred-data-automatically-with-python/"
   ]
  },
  {
   "cell_type": "code",
   "execution_count": 25,
   "metadata": {},
   "outputs": [],
   "source": [
    "# download using Pandas DataReader / FRED Datasource\n",
    "# URL: https://fred.stlouisfed.org/series/SP500\n",
    "metric_code = \"SP500\"\n",
    "fred_snp500_df = pdr.DataReader(metric_code, \"fred\", start=start_date)\n"
   ]
  },
  {
   "cell_type": "code",
   "execution_count": 26,
   "metadata": {},
   "outputs": [
    {
     "data": {
      "text/html": [
       "<div>\n",
       "<style scoped>\n",
       "    .dataframe tbody tr th:only-of-type {\n",
       "        vertical-align: middle;\n",
       "    }\n",
       "\n",
       "    .dataframe tbody tr th {\n",
       "        vertical-align: top;\n",
       "    }\n",
       "\n",
       "    .dataframe thead th {\n",
       "        text-align: right;\n",
       "    }\n",
       "</style>\n",
       "<table border=\"1\" class=\"dataframe\">\n",
       "  <thead>\n",
       "    <tr style=\"text-align: right;\">\n",
       "      <th></th>\n",
       "      <th>SP500</th>\n",
       "    </tr>\n",
       "    <tr>\n",
       "      <th>DATE</th>\n",
       "      <th></th>\n",
       "    </tr>\n",
       "  </thead>\n",
       "  <tbody>\n",
       "    <tr>\n",
       "      <th>2024-11-18</th>\n",
       "      <td>5893.62</td>\n",
       "    </tr>\n",
       "    <tr>\n",
       "      <th>2024-11-19</th>\n",
       "      <td>5916.98</td>\n",
       "    </tr>\n",
       "    <tr>\n",
       "      <th>2024-11-20</th>\n",
       "      <td>5917.11</td>\n",
       "    </tr>\n",
       "    <tr>\n",
       "      <th>2024-11-21</th>\n",
       "      <td>5948.71</td>\n",
       "    </tr>\n",
       "    <tr>\n",
       "      <th>2024-11-22</th>\n",
       "      <td>5969.34</td>\n",
       "    </tr>\n",
       "    <tr>\n",
       "      <th>2024-11-25</th>\n",
       "      <td>5987.37</td>\n",
       "    </tr>\n",
       "    <tr>\n",
       "      <th>2024-11-26</th>\n",
       "      <td>6021.63</td>\n",
       "    </tr>\n",
       "    <tr>\n",
       "      <th>2024-11-27</th>\n",
       "      <td>5998.74</td>\n",
       "    </tr>\n",
       "    <tr>\n",
       "      <th>2024-11-28</th>\n",
       "      <td>NaN</td>\n",
       "    </tr>\n",
       "    <tr>\n",
       "      <th>2024-11-29</th>\n",
       "      <td>6032.38</td>\n",
       "    </tr>\n",
       "  </tbody>\n",
       "</table>\n",
       "</div>"
      ],
      "text/plain": [
       "              SP500\n",
       "DATE               \n",
       "2024-11-18  5893.62\n",
       "2024-11-19  5916.98\n",
       "2024-11-20  5917.11\n",
       "2024-11-21  5948.71\n",
       "2024-11-22  5969.34\n",
       "2024-11-25  5987.37\n",
       "2024-11-26  6021.63\n",
       "2024-11-27  5998.74\n",
       "2024-11-28      NaN\n",
       "2024-11-29  6032.38"
      ]
     },
     "execution_count": 26,
     "metadata": {},
     "output_type": "execute_result"
    }
   ],
   "source": [
    "fred_snp500_df.tail(10)"
   ]
  },
  {
   "cell_type": "markdown",
   "metadata": {},
   "source": [
    "## 3) Minute data of S&P 500 from YFinance\n",
    "* we'll use BTC-USD minute data for the dashboards, as it is updated 24/7, and not only during the trading hours of the NYSE stock exchange "
   ]
  },
  {
   "cell_type": "code",
   "execution_count": 27,
   "metadata": {},
   "outputs": [],
   "source": [
    "# Minute data SNP500\n",
    "\n",
    "# Calculate start date (limited to 7 days for minute data)\n",
    "days_back = 5\n",
    "end_date = datetime.now()\n",
    "start_date = end_date - timedelta(days=min(days_back, 7))\n",
    "    \n",
    "# Fetch minute data\n",
    "# interval options: 1m,2m,5m,15m,30m,60m,90m,1h,1d,5d,1wk,1mo,3mo\n",
    "# Create ticker object for S&P500\n",
    "sp500 = yf.Ticker(\"^GSPC\")\n",
    "df = sp500.history(start=start_date, end=end_date, interval='1m')\n",
    "    \n",
    "# Convert timezone-aware index to timezone-naive for consistent processing\n",
    "df.index = df.index.tz_localize(None)"
   ]
  },
  {
   "cell_type": "code",
   "execution_count": 28,
   "metadata": {},
   "outputs": [
    {
     "data": {
      "text/html": [
       "<div>\n",
       "<style scoped>\n",
       "    .dataframe tbody tr th:only-of-type {\n",
       "        vertical-align: middle;\n",
       "    }\n",
       "\n",
       "    .dataframe tbody tr th {\n",
       "        vertical-align: top;\n",
       "    }\n",
       "\n",
       "    .dataframe thead th {\n",
       "        text-align: right;\n",
       "    }\n",
       "</style>\n",
       "<table border=\"1\" class=\"dataframe\">\n",
       "  <thead>\n",
       "    <tr style=\"text-align: right;\">\n",
       "      <th></th>\n",
       "      <th>Open</th>\n",
       "      <th>High</th>\n",
       "      <th>Low</th>\n",
       "      <th>Close</th>\n",
       "      <th>Volume</th>\n",
       "      <th>Dividends</th>\n",
       "      <th>Stock Splits</th>\n",
       "    </tr>\n",
       "    <tr>\n",
       "      <th>Datetime</th>\n",
       "      <th></th>\n",
       "      <th></th>\n",
       "      <th></th>\n",
       "      <th></th>\n",
       "      <th></th>\n",
       "      <th></th>\n",
       "      <th></th>\n",
       "    </tr>\n",
       "  </thead>\n",
       "  <tbody>\n",
       "    <tr>\n",
       "      <th>2024-11-29 12:55:00</th>\n",
       "      <td>6040.000000</td>\n",
       "      <td>6040.000000</td>\n",
       "      <td>6034.950195</td>\n",
       "      <td>6036.089844</td>\n",
       "      <td>17010236</td>\n",
       "      <td>0.0</td>\n",
       "      <td>0.0</td>\n",
       "    </tr>\n",
       "    <tr>\n",
       "      <th>2024-11-29 12:56:00</th>\n",
       "      <td>6036.399902</td>\n",
       "      <td>6036.589844</td>\n",
       "      <td>6034.870117</td>\n",
       "      <td>6036.009766</td>\n",
       "      <td>13330662</td>\n",
       "      <td>0.0</td>\n",
       "      <td>0.0</td>\n",
       "    </tr>\n",
       "    <tr>\n",
       "      <th>2024-11-29 12:57:00</th>\n",
       "      <td>6035.919922</td>\n",
       "      <td>6035.979980</td>\n",
       "      <td>6034.529785</td>\n",
       "      <td>6035.200195</td>\n",
       "      <td>16207178</td>\n",
       "      <td>0.0</td>\n",
       "      <td>0.0</td>\n",
       "    </tr>\n",
       "    <tr>\n",
       "      <th>2024-11-29 12:58:00</th>\n",
       "      <td>6035.169922</td>\n",
       "      <td>6036.819824</td>\n",
       "      <td>6034.970215</td>\n",
       "      <td>6034.970215</td>\n",
       "      <td>19862608</td>\n",
       "      <td>0.0</td>\n",
       "      <td>0.0</td>\n",
       "    </tr>\n",
       "    <tr>\n",
       "      <th>2024-11-29 12:59:00</th>\n",
       "      <td>6034.979980</td>\n",
       "      <td>6035.879883</td>\n",
       "      <td>6033.319824</td>\n",
       "      <td>6034.109863</td>\n",
       "      <td>43307000</td>\n",
       "      <td>0.0</td>\n",
       "      <td>0.0</td>\n",
       "    </tr>\n",
       "  </tbody>\n",
       "</table>\n",
       "</div>"
      ],
      "text/plain": [
       "                            Open         High          Low        Close  \\\n",
       "Datetime                                                                  \n",
       "2024-11-29 12:55:00  6040.000000  6040.000000  6034.950195  6036.089844   \n",
       "2024-11-29 12:56:00  6036.399902  6036.589844  6034.870117  6036.009766   \n",
       "2024-11-29 12:57:00  6035.919922  6035.979980  6034.529785  6035.200195   \n",
       "2024-11-29 12:58:00  6035.169922  6036.819824  6034.970215  6034.970215   \n",
       "2024-11-29 12:59:00  6034.979980  6035.879883  6033.319824  6034.109863   \n",
       "\n",
       "                       Volume  Dividends  Stock Splits  \n",
       "Datetime                                                \n",
       "2024-11-29 12:55:00  17010236        0.0           0.0  \n",
       "2024-11-29 12:56:00  13330662        0.0           0.0  \n",
       "2024-11-29 12:57:00  16207178        0.0           0.0  \n",
       "2024-11-29 12:58:00  19862608        0.0           0.0  \n",
       "2024-11-29 12:59:00  43307000        0.0           0.0  "
      ]
     },
     "execution_count": 28,
     "metadata": {},
     "output_type": "execute_result"
    }
   ],
   "source": [
    "import pandas as pd\n",
    "from datetime import datetime, timedelta\n",
    "import plotly.express as px\n",
    "\n",
    "# Creating a sample dataframe for demonstration purposes\n",
    "df.tail()"
   ]
  },
  {
   "cell_type": "code",
   "execution_count": 29,
   "metadata": {},
   "outputs": [
    {
     "data": {
      "application/vnd.plotly.v1+json": {
       "config": {
        "plotlyServerURL": "https://plot.ly"
       },
       "data": [
        {
         "hovertemplate": "Datetime=%{x}<br>Close=%{y}<extra></extra>",
         "legendgroup": "",
         "line": {
          "color": "#636efa",
          "dash": "solid"
         },
         "marker": {
          "symbol": "circle"
         },
         "mode": "lines",
         "name": "",
         "orientation": "v",
         "showlegend": false,
         "type": "scatter",
         "x": [
          "2024-11-26T15:58:00",
          "2024-11-26T15:59:00",
          "2024-11-27T09:30:00",
          "2024-11-27T09:31:00",
          "2024-11-27T09:32:00",
          "2024-11-27T09:33:00",
          "2024-11-27T09:34:00",
          "2024-11-27T09:35:00",
          "2024-11-27T09:36:00",
          "2024-11-27T09:37:00",
          "2024-11-27T09:38:00",
          "2024-11-27T09:39:00",
          "2024-11-27T09:40:00",
          "2024-11-27T09:41:00",
          "2024-11-27T09:42:00",
          "2024-11-27T09:43:00",
          "2024-11-27T09:44:00",
          "2024-11-27T09:45:00",
          "2024-11-27T09:46:00",
          "2024-11-27T09:47:00",
          "2024-11-27T09:48:00",
          "2024-11-27T09:49:00",
          "2024-11-27T09:50:00",
          "2024-11-27T09:51:00",
          "2024-11-27T09:52:00",
          "2024-11-27T09:53:00",
          "2024-11-27T09:54:00",
          "2024-11-27T09:55:00",
          "2024-11-27T09:56:00",
          "2024-11-27T09:57:00",
          "2024-11-27T09:58:00",
          "2024-11-27T09:59:00",
          "2024-11-27T10:00:00",
          "2024-11-27T10:01:00",
          "2024-11-27T10:02:00",
          "2024-11-27T10:03:00",
          "2024-11-27T10:04:00",
          "2024-11-27T10:05:00",
          "2024-11-27T10:06:00",
          "2024-11-27T10:07:00",
          "2024-11-27T10:08:00",
          "2024-11-27T10:09:00",
          "2024-11-27T10:10:00",
          "2024-11-27T10:11:00",
          "2024-11-27T10:12:00",
          "2024-11-27T10:13:00",
          "2024-11-27T10:14:00",
          "2024-11-27T10:15:00",
          "2024-11-27T10:16:00",
          "2024-11-27T10:17:00",
          "2024-11-27T10:18:00",
          "2024-11-27T10:19:00",
          "2024-11-27T10:20:00",
          "2024-11-27T10:21:00",
          "2024-11-27T10:22:00",
          "2024-11-27T10:23:00",
          "2024-11-27T10:24:00",
          "2024-11-27T10:25:00",
          "2024-11-27T10:26:00",
          "2024-11-27T10:27:00",
          "2024-11-27T10:28:00",
          "2024-11-27T10:29:00",
          "2024-11-27T10:30:00",
          "2024-11-27T10:31:00",
          "2024-11-27T10:32:00",
          "2024-11-27T10:33:00",
          "2024-11-27T10:34:00",
          "2024-11-27T10:35:00",
          "2024-11-27T10:36:00",
          "2024-11-27T10:37:00",
          "2024-11-27T10:38:00",
          "2024-11-27T10:39:00",
          "2024-11-27T10:40:00",
          "2024-11-27T10:41:00",
          "2024-11-27T10:42:00",
          "2024-11-27T10:43:00",
          "2024-11-27T10:44:00",
          "2024-11-27T10:45:00",
          "2024-11-27T10:48:00",
          "2024-11-27T10:49:00",
          "2024-11-27T10:50:00",
          "2024-11-27T10:51:00",
          "2024-11-27T10:52:00",
          "2024-11-27T10:53:00",
          "2024-11-27T10:54:00",
          "2024-11-27T10:55:00",
          "2024-11-27T10:56:00",
          "2024-11-27T10:57:00",
          "2024-11-27T10:58:00",
          "2024-11-27T10:59:00",
          "2024-11-27T11:00:00",
          "2024-11-27T11:01:00",
          "2024-11-27T11:02:00",
          "2024-11-27T11:03:00",
          "2024-11-27T11:04:00",
          "2024-11-27T11:05:00",
          "2024-11-27T11:06:00",
          "2024-11-27T11:07:00",
          "2024-11-27T11:08:00",
          "2024-11-27T11:09:00",
          "2024-11-27T11:10:00",
          "2024-11-27T11:11:00",
          "2024-11-27T11:12:00",
          "2024-11-27T11:13:00",
          "2024-11-27T11:14:00",
          "2024-11-27T11:15:00",
          "2024-11-27T11:16:00",
          "2024-11-27T11:17:00",
          "2024-11-27T11:18:00",
          "2024-11-27T11:19:00",
          "2024-11-27T11:20:00",
          "2024-11-27T11:21:00",
          "2024-11-27T11:22:00",
          "2024-11-27T11:23:00",
          "2024-11-27T11:24:00",
          "2024-11-27T11:25:00",
          "2024-11-27T11:26:00",
          "2024-11-27T11:27:00",
          "2024-11-27T11:28:00",
          "2024-11-27T11:29:00",
          "2024-11-27T11:30:00",
          "2024-11-27T11:31:00",
          "2024-11-27T11:32:00",
          "2024-11-27T11:33:00",
          "2024-11-27T11:34:00",
          "2024-11-27T11:35:00",
          "2024-11-27T11:36:00",
          "2024-11-27T11:37:00",
          "2024-11-27T11:38:00",
          "2024-11-27T11:39:00",
          "2024-11-27T11:40:00",
          "2024-11-27T11:41:00",
          "2024-11-27T11:42:00",
          "2024-11-27T11:43:00",
          "2024-11-27T11:44:00",
          "2024-11-27T11:45:00",
          "2024-11-27T11:46:00",
          "2024-11-27T11:47:00",
          "2024-11-27T11:48:00",
          "2024-11-27T11:49:00",
          "2024-11-27T11:50:00",
          "2024-11-27T11:51:00",
          "2024-11-27T11:52:00",
          "2024-11-27T11:53:00",
          "2024-11-27T11:54:00",
          "2024-11-27T11:55:00",
          "2024-11-27T11:56:00",
          "2024-11-27T11:57:00",
          "2024-11-27T11:58:00",
          "2024-11-27T11:59:00",
          "2024-11-27T12:00:00",
          "2024-11-27T12:01:00",
          "2024-11-27T12:02:00",
          "2024-11-27T12:03:00",
          "2024-11-27T12:04:00",
          "2024-11-27T12:05:00",
          "2024-11-27T12:06:00",
          "2024-11-27T12:07:00",
          "2024-11-27T12:08:00",
          "2024-11-27T12:09:00",
          "2024-11-27T12:10:00",
          "2024-11-27T12:11:00",
          "2024-11-27T12:12:00",
          "2024-11-27T12:13:00",
          "2024-11-27T12:14:00",
          "2024-11-27T12:15:00",
          "2024-11-27T12:16:00",
          "2024-11-27T12:17:00",
          "2024-11-27T12:18:00",
          "2024-11-27T12:19:00",
          "2024-11-27T12:20:00",
          "2024-11-27T12:21:00",
          "2024-11-27T12:22:00",
          "2024-11-27T12:23:00",
          "2024-11-27T12:24:00",
          "2024-11-27T12:25:00",
          "2024-11-27T12:26:00",
          "2024-11-27T12:27:00",
          "2024-11-27T12:28:00",
          "2024-11-27T12:29:00",
          "2024-11-27T12:30:00",
          "2024-11-27T12:31:00",
          "2024-11-27T12:32:00",
          "2024-11-27T12:33:00",
          "2024-11-27T12:34:00",
          "2024-11-27T12:35:00",
          "2024-11-27T12:36:00",
          "2024-11-27T12:37:00",
          "2024-11-27T12:38:00",
          "2024-11-27T12:39:00",
          "2024-11-27T12:40:00",
          "2024-11-27T12:41:00",
          "2024-11-27T12:42:00",
          "2024-11-27T12:43:00",
          "2024-11-27T12:44:00",
          "2024-11-27T12:45:00",
          "2024-11-27T12:46:00",
          "2024-11-27T12:47:00",
          "2024-11-27T12:48:00",
          "2024-11-27T12:49:00",
          "2024-11-27T12:50:00",
          "2024-11-27T12:51:00",
          "2024-11-27T12:52:00",
          "2024-11-27T12:53:00",
          "2024-11-27T12:54:00",
          "2024-11-27T12:55:00",
          "2024-11-27T12:56:00",
          "2024-11-27T12:57:00",
          "2024-11-27T12:58:00",
          "2024-11-27T12:59:00",
          "2024-11-27T13:00:00",
          "2024-11-27T13:01:00",
          "2024-11-27T13:02:00",
          "2024-11-27T13:03:00",
          "2024-11-27T13:04:00",
          "2024-11-27T13:05:00",
          "2024-11-27T13:06:00",
          "2024-11-27T13:07:00",
          "2024-11-27T13:08:00",
          "2024-11-27T13:09:00",
          "2024-11-27T13:10:00",
          "2024-11-27T13:11:00",
          "2024-11-27T13:12:00",
          "2024-11-27T13:13:00",
          "2024-11-27T13:14:00",
          "2024-11-27T13:15:00",
          "2024-11-27T13:16:00",
          "2024-11-27T13:17:00",
          "2024-11-27T13:18:00",
          "2024-11-27T13:19:00",
          "2024-11-27T13:20:00",
          "2024-11-27T13:21:00",
          "2024-11-27T13:22:00",
          "2024-11-27T13:23:00",
          "2024-11-27T13:24:00",
          "2024-11-27T13:25:00",
          "2024-11-27T13:26:00",
          "2024-11-27T13:27:00",
          "2024-11-27T13:28:00",
          "2024-11-27T13:29:00",
          "2024-11-27T13:30:00",
          "2024-11-27T13:31:00",
          "2024-11-27T13:32:00",
          "2024-11-27T13:33:00",
          "2024-11-27T13:34:00",
          "2024-11-27T13:35:00",
          "2024-11-27T13:36:00",
          "2024-11-27T13:37:00",
          "2024-11-27T13:38:00",
          "2024-11-27T13:39:00",
          "2024-11-27T13:40:00",
          "2024-11-27T13:41:00",
          "2024-11-27T13:42:00",
          "2024-11-27T13:43:00",
          "2024-11-27T13:44:00",
          "2024-11-27T13:45:00",
          "2024-11-27T13:46:00",
          "2024-11-27T13:47:00",
          "2024-11-27T13:48:00",
          "2024-11-27T13:49:00",
          "2024-11-27T13:50:00",
          "2024-11-27T13:51:00",
          "2024-11-27T13:52:00",
          "2024-11-27T13:53:00",
          "2024-11-27T13:54:00",
          "2024-11-27T13:55:00",
          "2024-11-27T13:56:00",
          "2024-11-27T13:57:00",
          "2024-11-27T13:58:00",
          "2024-11-27T13:59:00",
          "2024-11-27T14:00:00",
          "2024-11-27T14:01:00",
          "2024-11-27T14:02:00",
          "2024-11-27T14:03:00",
          "2024-11-27T14:04:00",
          "2024-11-27T14:05:00",
          "2024-11-27T14:06:00",
          "2024-11-27T14:07:00",
          "2024-11-27T14:08:00",
          "2024-11-27T14:09:00",
          "2024-11-27T14:10:00",
          "2024-11-27T14:11:00",
          "2024-11-27T14:12:00",
          "2024-11-27T14:13:00",
          "2024-11-27T14:14:00",
          "2024-11-27T14:15:00",
          "2024-11-27T14:16:00",
          "2024-11-27T14:17:00",
          "2024-11-27T14:18:00",
          "2024-11-27T14:19:00",
          "2024-11-27T14:20:00",
          "2024-11-27T14:21:00",
          "2024-11-27T14:22:00",
          "2024-11-27T14:23:00",
          "2024-11-27T14:24:00",
          "2024-11-27T14:25:00",
          "2024-11-27T14:26:00",
          "2024-11-27T14:27:00",
          "2024-11-27T14:28:00",
          "2024-11-27T14:29:00",
          "2024-11-27T14:30:00",
          "2024-11-27T14:31:00",
          "2024-11-27T14:32:00",
          "2024-11-27T14:33:00",
          "2024-11-27T14:34:00",
          "2024-11-27T14:35:00",
          "2024-11-27T14:36:00",
          "2024-11-27T14:37:00",
          "2024-11-27T14:38:00",
          "2024-11-27T14:39:00",
          "2024-11-27T14:40:00",
          "2024-11-27T14:41:00",
          "2024-11-27T14:42:00",
          "2024-11-27T14:43:00",
          "2024-11-27T14:44:00",
          "2024-11-27T14:45:00",
          "2024-11-27T14:46:00",
          "2024-11-27T14:47:00",
          "2024-11-27T14:48:00",
          "2024-11-27T14:49:00",
          "2024-11-27T14:50:00",
          "2024-11-27T14:51:00",
          "2024-11-27T14:52:00",
          "2024-11-27T14:53:00",
          "2024-11-27T14:54:00",
          "2024-11-27T14:55:00",
          "2024-11-27T14:56:00",
          "2024-11-27T14:57:00",
          "2024-11-27T14:58:00",
          "2024-11-27T14:59:00",
          "2024-11-27T15:00:00",
          "2024-11-27T15:01:00",
          "2024-11-27T15:02:00",
          "2024-11-27T15:03:00",
          "2024-11-27T15:04:00",
          "2024-11-27T15:05:00",
          "2024-11-27T15:06:00",
          "2024-11-27T15:07:00",
          "2024-11-27T15:08:00",
          "2024-11-27T15:09:00",
          "2024-11-27T15:10:00",
          "2024-11-27T15:11:00",
          "2024-11-27T15:12:00",
          "2024-11-27T15:13:00",
          "2024-11-27T15:14:00",
          "2024-11-27T15:15:00",
          "2024-11-27T15:16:00",
          "2024-11-27T15:17:00",
          "2024-11-27T15:18:00",
          "2024-11-27T15:19:00",
          "2024-11-27T15:20:00",
          "2024-11-27T15:21:00",
          "2024-11-27T15:22:00",
          "2024-11-27T15:23:00",
          "2024-11-27T15:24:00",
          "2024-11-27T15:25:00",
          "2024-11-27T15:26:00",
          "2024-11-27T15:27:00",
          "2024-11-27T15:28:00",
          "2024-11-27T15:29:00",
          "2024-11-27T15:30:00",
          "2024-11-27T15:31:00",
          "2024-11-27T15:32:00",
          "2024-11-27T15:33:00",
          "2024-11-27T15:34:00",
          "2024-11-27T15:35:00",
          "2024-11-27T15:36:00",
          "2024-11-27T15:37:00",
          "2024-11-27T15:38:00",
          "2024-11-27T15:39:00",
          "2024-11-27T15:40:00",
          "2024-11-27T15:41:00",
          "2024-11-27T15:42:00",
          "2024-11-27T15:43:00",
          "2024-11-27T15:44:00",
          "2024-11-27T15:45:00",
          "2024-11-27T15:46:00",
          "2024-11-27T15:47:00",
          "2024-11-27T15:48:00",
          "2024-11-27T15:49:00",
          "2024-11-27T15:50:00",
          "2024-11-27T15:51:00",
          "2024-11-27T15:52:00",
          "2024-11-27T15:53:00",
          "2024-11-27T15:54:00",
          "2024-11-27T15:55:00",
          "2024-11-27T15:56:00",
          "2024-11-27T15:57:00",
          "2024-11-27T15:58:00",
          "2024-11-27T15:59:00",
          "2024-11-29T09:30:00",
          "2024-11-29T09:31:00",
          "2024-11-29T09:32:00",
          "2024-11-29T09:33:00",
          "2024-11-29T09:34:00",
          "2024-11-29T09:35:00",
          "2024-11-29T09:36:00",
          "2024-11-29T09:37:00",
          "2024-11-29T09:38:00",
          "2024-11-29T09:39:00",
          "2024-11-29T09:40:00",
          "2024-11-29T09:41:00",
          "2024-11-29T09:42:00",
          "2024-11-29T09:43:00",
          "2024-11-29T09:44:00",
          "2024-11-29T09:45:00",
          "2024-11-29T09:46:00",
          "2024-11-29T09:47:00",
          "2024-11-29T09:48:00",
          "2024-11-29T09:49:00",
          "2024-11-29T09:50:00",
          "2024-11-29T09:51:00",
          "2024-11-29T09:52:00",
          "2024-11-29T09:53:00",
          "2024-11-29T09:54:00",
          "2024-11-29T09:55:00",
          "2024-11-29T09:56:00",
          "2024-11-29T09:57:00",
          "2024-11-29T09:58:00",
          "2024-11-29T09:59:00",
          "2024-11-29T10:00:00",
          "2024-11-29T10:01:00",
          "2024-11-29T10:02:00",
          "2024-11-29T10:03:00",
          "2024-11-29T10:04:00",
          "2024-11-29T10:05:00",
          "2024-11-29T10:06:00",
          "2024-11-29T10:07:00",
          "2024-11-29T10:08:00",
          "2024-11-29T10:09:00",
          "2024-11-29T10:10:00",
          "2024-11-29T10:11:00",
          "2024-11-29T10:12:00",
          "2024-11-29T10:13:00",
          "2024-11-29T10:14:00",
          "2024-11-29T10:15:00",
          "2024-11-29T10:16:00",
          "2024-11-29T10:17:00",
          "2024-11-29T10:18:00",
          "2024-11-29T10:19:00",
          "2024-11-29T10:20:00",
          "2024-11-29T10:21:00",
          "2024-11-29T10:22:00",
          "2024-11-29T10:23:00",
          "2024-11-29T10:24:00",
          "2024-11-29T10:25:00",
          "2024-11-29T10:26:00",
          "2024-11-29T10:27:00",
          "2024-11-29T10:28:00",
          "2024-11-29T10:29:00",
          "2024-11-29T10:30:00",
          "2024-11-29T10:31:00",
          "2024-11-29T10:32:00",
          "2024-11-29T10:33:00",
          "2024-11-29T10:34:00",
          "2024-11-29T10:35:00",
          "2024-11-29T10:36:00",
          "2024-11-29T10:37:00",
          "2024-11-29T10:38:00",
          "2024-11-29T10:39:00",
          "2024-11-29T10:40:00",
          "2024-11-29T10:41:00",
          "2024-11-29T10:42:00",
          "2024-11-29T10:43:00",
          "2024-11-29T10:44:00",
          "2024-11-29T10:45:00",
          "2024-11-29T10:46:00",
          "2024-11-29T10:47:00",
          "2024-11-29T10:48:00",
          "2024-11-29T10:49:00",
          "2024-11-29T10:50:00",
          "2024-11-29T10:51:00",
          "2024-11-29T10:52:00",
          "2024-11-29T10:53:00",
          "2024-11-29T10:54:00",
          "2024-11-29T10:55:00",
          "2024-11-29T10:56:00",
          "2024-11-29T10:57:00",
          "2024-11-29T10:58:00",
          "2024-11-29T10:59:00",
          "2024-11-29T11:00:00",
          "2024-11-29T11:01:00",
          "2024-11-29T11:02:00",
          "2024-11-29T11:03:00",
          "2024-11-29T11:04:00",
          "2024-11-29T11:05:00",
          "2024-11-29T11:06:00",
          "2024-11-29T11:07:00",
          "2024-11-29T11:08:00",
          "2024-11-29T11:09:00",
          "2024-11-29T11:10:00",
          "2024-11-29T11:11:00",
          "2024-11-29T11:12:00",
          "2024-11-29T11:13:00",
          "2024-11-29T11:14:00",
          "2024-11-29T11:15:00",
          "2024-11-29T11:16:00",
          "2024-11-29T11:17:00",
          "2024-11-29T11:18:00",
          "2024-11-29T11:19:00",
          "2024-11-29T11:20:00",
          "2024-11-29T11:21:00",
          "2024-11-29T11:22:00",
          "2024-11-29T11:23:00",
          "2024-11-29T11:24:00",
          "2024-11-29T11:25:00",
          "2024-11-29T11:26:00",
          "2024-11-29T11:27:00",
          "2024-11-29T11:28:00",
          "2024-11-29T11:29:00",
          "2024-11-29T11:30:00",
          "2024-11-29T11:31:00",
          "2024-11-29T11:32:00",
          "2024-11-29T11:33:00",
          "2024-11-29T11:34:00",
          "2024-11-29T11:35:00",
          "2024-11-29T11:36:00",
          "2024-11-29T11:37:00",
          "2024-11-29T11:38:00",
          "2024-11-29T11:39:00",
          "2024-11-29T11:40:00",
          "2024-11-29T11:41:00",
          "2024-11-29T11:42:00",
          "2024-11-29T11:43:00",
          "2024-11-29T11:44:00",
          "2024-11-29T11:45:00",
          "2024-11-29T11:46:00",
          "2024-11-29T11:47:00",
          "2024-11-29T11:48:00",
          "2024-11-29T11:49:00",
          "2024-11-29T11:50:00",
          "2024-11-29T11:51:00",
          "2024-11-29T11:52:00",
          "2024-11-29T11:53:00",
          "2024-11-29T11:54:00",
          "2024-11-29T11:55:00",
          "2024-11-29T11:56:00",
          "2024-11-29T11:57:00",
          "2024-11-29T11:58:00",
          "2024-11-29T11:59:00",
          "2024-11-29T12:00:00",
          "2024-11-29T12:01:00",
          "2024-11-29T12:02:00",
          "2024-11-29T12:03:00",
          "2024-11-29T12:04:00",
          "2024-11-29T12:05:00",
          "2024-11-29T12:06:00",
          "2024-11-29T12:07:00",
          "2024-11-29T12:08:00",
          "2024-11-29T12:09:00",
          "2024-11-29T12:10:00",
          "2024-11-29T12:11:00",
          "2024-11-29T12:12:00",
          "2024-11-29T12:13:00",
          "2024-11-29T12:14:00",
          "2024-11-29T12:15:00",
          "2024-11-29T12:16:00",
          "2024-11-29T12:17:00",
          "2024-11-29T12:18:00",
          "2024-11-29T12:19:00",
          "2024-11-29T12:20:00",
          "2024-11-29T12:21:00",
          "2024-11-29T12:22:00",
          "2024-11-29T12:23:00",
          "2024-11-29T12:24:00",
          "2024-11-29T12:25:00",
          "2024-11-29T12:26:00",
          "2024-11-29T12:27:00",
          "2024-11-29T12:28:00",
          "2024-11-29T12:29:00",
          "2024-11-29T12:30:00",
          "2024-11-29T12:31:00",
          "2024-11-29T12:32:00",
          "2024-11-29T12:33:00",
          "2024-11-29T12:34:00",
          "2024-11-29T12:35:00",
          "2024-11-29T12:36:00",
          "2024-11-29T12:37:00",
          "2024-11-29T12:38:00",
          "2024-11-29T12:39:00",
          "2024-11-29T12:40:00",
          "2024-11-29T12:41:00",
          "2024-11-29T12:42:00",
          "2024-11-29T12:43:00",
          "2024-11-29T12:44:00",
          "2024-11-29T12:45:00",
          "2024-11-29T12:46:00",
          "2024-11-29T12:47:00",
          "2024-11-29T12:48:00",
          "2024-11-29T12:49:00",
          "2024-11-29T12:50:00",
          "2024-11-29T12:51:00",
          "2024-11-29T12:52:00",
          "2024-11-29T12:53:00",
          "2024-11-29T12:54:00",
          "2024-11-29T12:55:00",
          "2024-11-29T12:56:00",
          "2024-11-29T12:57:00",
          "2024-11-29T12:58:00",
          "2024-11-29T12:59:00"
         ],
         "xaxis": "x",
         "y": [
          6022.81982421875,
          6020.740234375,
          6011.35986328125,
          6011.5498046875,
          6013.33984375,
          6018.77978515625,
          6016.7998046875,
          6014.14990234375,
          6012.8701171875,
          6013.43017578125,
          6014.0498046875,
          6013.27978515625,
          6013.77001953125,
          6015.7001953125,
          6015.85986328125,
          6017.77978515625,
          6017.2099609375,
          6016.66015625,
          6019.39013671875,
          6018.81982421875,
          6018.06982421875,
          6017.68994140625,
          6016.93994140625,
          6014.43994140625,
          6015.080078125,
          6013.919921875,
          6012.740234375,
          6013.68994140625,
          6014.41015625,
          6014.91015625,
          6015.85986328125,
          6015.35986328125,
          6013.39990234375,
          6010.39990234375,
          6013.43017578125,
          6012.580078125,
          6013.41015625,
          6012.77001953125,
          6013.83984375,
          6013.97021484375,
          6014.5,
          6012.77001953125,
          6013.60009765625,
          6012.41015625,
          6010.25,
          6009.8701171875,
          6009.4501953125,
          6008.16015625,
          6008.080078125,
          6008.77001953125,
          6009.509765625,
          6010.56982421875,
          6010.72998046875,
          6009.2001953125,
          6007.830078125,
          6010.0400390625,
          6008.35986328125,
          6007.64990234375,
          6006.39013671875,
          6004.259765625,
          6005.919921875,
          6004.580078125,
          6005.3701171875,
          6005.22998046875,
          6004.509765625,
          6005.7998046875,
          6003.91015625,
          6004.02978515625,
          6001.10009765625,
          5997.1298828125,
          5998.39990234375,
          5998.1201171875,
          6001.27001953125,
          6004.56982421875,
          6004.9599609375,
          6005.89013671875,
          6006.990234375,
          6005.2099609375,
          6002.47021484375,
          6002,
          6002.10986328125,
          6000.009765625,
          6001.97998046875,
          6001.60986328125,
          6001.89013671875,
          6000.0498046875,
          6001,
          6001.6201171875,
          6002.27001953125,
          5999.8798828125,
          5998.97021484375,
          5994.60009765625,
          5995.22021484375,
          5996.830078125,
          5996.72998046875,
          5996.52978515625,
          5999.31982421875,
          5998.9599609375,
          5999.259765625,
          6000.169921875,
          5997.0400390625,
          5995.31005859375,
          5998.3701171875,
          5997.43994140625,
          5997.3798828125,
          5997.7900390625,
          5995.72021484375,
          5995.3798828125,
          5995.91015625,
          5996.1298828125,
          5997.669921875,
          5997.6201171875,
          5997.39013671875,
          5997.169921875,
          5996.41015625,
          5995.97021484375,
          5996.8798828125,
          5995.10009765625,
          5994.97021484375,
          5995.64013671875,
          5994.60009765625,
          5995.25,
          5996.68017578125,
          5996.240234375,
          5998.02001953125,
          5999.740234375,
          5999.919921875,
          6001.10009765625,
          6000.5400390625,
          6001.6298828125,
          6001.47998046875,
          6001.02001953125,
          5999.27001953125,
          5999.1201171875,
          5995.97998046875,
          5996.58984375,
          5994.16015625,
          5993.75,
          5993.490234375,
          5992.669921875,
          5992.27978515625,
          5992.669921875,
          5993.33984375,
          5994.0400390625,
          5992.81005859375,
          5992.14013671875,
          5992.52001953125,
          5992.72998046875,
          5993.68994140625,
          5992.64013671875,
          5991.830078125,
          5991.009765625,
          5990.1298828125,
          5989.2900390625,
          5989.27001953125,
          5989.7001953125,
          5988.5,
          5988.580078125,
          5985.169921875,
          5986.64013671875,
          5988.52001953125,
          5990.1201171875,
          5990.77001953125,
          5991.240234375,
          5990.7001953125,
          5990.080078125,
          5989.39990234375,
          5989.669921875,
          5989.0400390625,
          5991.16015625,
          5992.68017578125,
          5992.7900390625,
          5990.740234375,
          5990.64013671875,
          5990.419921875,
          5992.14013671875,
          5992.7900390625,
          5993.5,
          5993.919921875,
          5993.68994140625,
          5992.56982421875,
          5990.64013671875,
          5989.97021484375,
          5989.89990234375,
          5991.4599609375,
          5991.490234375,
          5992.02001953125,
          5990.8798828125,
          5990.4599609375,
          5990.7099609375,
          5991.2998046875,
          5991.8798828125,
          5991.64990234375,
          5991.02001953125,
          5991.22021484375,
          5990.10986328125,
          5991.56005859375,
          5993.0400390625,
          5992.27978515625,
          5992.68994140625,
          5992.9599609375,
          5994.009765625,
          5994.5400390625,
          5994.72021484375,
          5993.81005859375,
          5993.47021484375,
          5993.3798828125,
          5994.080078125,
          5995.22998046875,
          5995.27001953125,
          5994.14013671875,
          5993.47021484375,
          5993.93994140625,
          5994.7099609375,
          5994.5498046875,
          5995.2900390625,
          5995.2099609375,
          5995.89990234375,
          5995.33984375,
          5996.0400390625,
          5996.93994140625,
          5997.47998046875,
          5996.3798828125,
          5997,
          5998.64990234375,
          5997.97998046875,
          5997.81005859375,
          5997.5400390625,
          5998.830078125,
          5999.56005859375,
          5998.81005859375,
          5998.75,
          5997.5400390625,
          5997.33984375,
          5997.56005859375,
          5998.35009765625,
          5997.58984375,
          5995.7998046875,
          5995.75,
          5996.33984375,
          5997.31005859375,
          5996.8798828125,
          5998.509765625,
          5998.60009765625,
          5999.31982421875,
          6000.0400390625,
          5999.8798828125,
          6000.72998046875,
          6001.1298828125,
          6000.52001953125,
          6000.52978515625,
          5999.72998046875,
          5999.02978515625,
          5999.56982421875,
          5999.990234375,
          6000.89990234375,
          5999.8701171875,
          6000.39990234375,
          5999.2001953125,
          5999.1298828125,
          5999.3798828125,
          5999.35986328125,
          5999.47998046875,
          6001.3701171875,
          6001.27001953125,
          6001.52978515625,
          6001.81982421875,
          6002.080078125,
          6001.919921875,
          6000.41015625,
          6000.27001953125,
          6000.39013671875,
          6000.1201171875,
          6000.490234375,
          6001.35986328125,
          6000.580078125,
          6000.6298828125,
          6001.16015625,
          6001.02978515625,
          6001.009765625,
          5999.97021484375,
          6000.85009765625,
          6000.7900390625,
          6000.91015625,
          6002.39990234375,
          6001.14990234375,
          6001.27001953125,
          6001.06005859375,
          6000.68994140625,
          6000.0498046875,
          5999.7001953125,
          5999.56005859375,
          5999.14990234375,
          6000.330078125,
          6000.9501953125,
          6000.83984375,
          5999.97998046875,
          5998.60009765625,
          5999.0498046875,
          5998.18994140625,
          5998.10986328125,
          5998.72998046875,
          5998.83984375,
          5998.2099609375,
          5998.2001953125,
          5996.919921875,
          5996.93994140625,
          5998.2099609375,
          5998.830078125,
          5998.39990234375,
          5999.18994140625,
          5999.85009765625,
          6000.02978515625,
          6001.2001953125,
          6001.10009765625,
          6000.60009765625,
          5999.83984375,
          6001.22021484375,
          6002.18017578125,
          6001.3798828125,
          6001.81005859375,
          6001.490234375,
          6000.830078125,
          6000.97021484375,
          6000.52001953125,
          6000.4501953125,
          6000.31005859375,
          6000.25,
          5999.72998046875,
          5998.64990234375,
          5997.72998046875,
          5999.56982421875,
          5999.759765625,
          6000.080078125,
          6000.1298828125,
          6001.22021484375,
          6001.10009765625,
          6000.10009765625,
          6001.06982421875,
          6000.85009765625,
          6000.669921875,
          5999.91015625,
          5999.5498046875,
          5998.68994140625,
          5998.56982421875,
          5999.64990234375,
          5999.1298828125,
          5998.64013671875,
          5998.06005859375,
          5997.33984375,
          5997.259765625,
          5995.3701171875,
          5997.10009765625,
          5996.75,
          5996.2001953125,
          5995.9501953125,
          5995.33984375,
          5995.6298828125,
          5995.85009765625,
          5997.06982421875,
          5995.18017578125,
          5995.14990234375,
          5995.47021484375,
          5996.35009765625,
          5996.919921875,
          5995.81005859375,
          5995.91015625,
          5996.3798828125,
          5996.31005859375,
          5995.89990234375,
          5994.77001953125,
          5993.1298828125,
          5992.83984375,
          5993.93017578125,
          5994.93017578125,
          5996.8701171875,
          5997.259765625,
          5998.419921875,
          5998.330078125,
          5999.60009765625,
          5999.97021484375,
          6000.02001953125,
          5999.7998046875,
          5999.89990234375,
          5997.3701171875,
          5998.990234375,
          5998.35986328125,
          5997.169921875,
          5998.580078125,
          5998.72021484375,
          6005.52001953125,
          6008.35009765625,
          6010.77001953125,
          6010.60009765625,
          6010.47998046875,
          6010.1201171875,
          6012.2900390625,
          6012.08984375,
          6013.06005859375,
          6014.8798828125,
          6013.93017578125,
          6013.64013671875,
          6013.41015625,
          6014.66015625,
          6014.39990234375,
          6014.2001953125,
          6015.89990234375,
          6016.0400390625,
          6012.43017578125,
          6012.56005859375,
          6015.35986328125,
          6016.22021484375,
          6016.52978515625,
          6016.35009765625,
          6017.169921875,
          6017.18994140625,
          6016.60009765625,
          6017.08984375,
          6018.08984375,
          6019,
          6019.83984375,
          6020.35009765625,
          6020.43017578125,
          6020.669921875,
          6021.2001953125,
          6023.02001953125,
          6023.490234375,
          6024.240234375,
          6024.7099609375,
          6024,
          6025.64013671875,
          6027.0400390625,
          6026.3798828125,
          6026.9599609375,
          6027.0498046875,
          6027.2099609375,
          6027.56005859375,
          6028.22998046875,
          6026.47998046875,
          6027.2998046875,
          6026.1298828125,
          6026.27978515625,
          6025.009765625,
          6026.18017578125,
          6025.93017578125,
          6025.56005859375,
          6023.56005859375,
          6024.43017578125,
          6025.669921875,
          6025.3798828125,
          6026.52978515625,
          6026.97998046875,
          6027.33984375,
          6027.56982421875,
          6028.080078125,
          6027.02001953125,
          6028.2998046875,
          6029.14013671875,
          6028.77001953125,
          6029.1201171875,
          6028.47021484375,
          6029.1201171875,
          6028.7900390625,
          6029.39990234375,
          6028,
          6028.35986328125,
          6026.7900390625,
          6026.18017578125,
          6025.77001953125,
          6025.7001953125,
          6025.68994140625,
          6027.08984375,
          6026.919921875,
          6027.85986328125,
          6027.81982421875,
          6028.89990234375,
          6028.85009765625,
          6029.06982421875,
          6028.58984375,
          6029.33984375,
          6029.75,
          6030.64990234375,
          6030.2001953125,
          6030.3701171875,
          6030.27978515625,
          6030.66015625,
          6029.2998046875,
          6030.39013671875,
          6030.9501953125,
          6031.85009765625,
          6031.66015625,
          6033,
          6032.990234375,
          6033.2099609375,
          6033.5498046875,
          6034.81982421875,
          6034.509765625,
          6033.759765625,
          6033.10986328125,
          6032.56005859375,
          6033.240234375,
          6033.509765625,
          6033.5,
          6034.22021484375,
          6034.33984375,
          6034.39990234375,
          6034.009765625,
          6033.81005859375,
          6034.60986328125,
          6034.2998046875,
          6034.56005859375,
          6033.990234375,
          6034.31005859375,
          6034.02001953125,
          6032.9599609375,
          6032.7001953125,
          6031.60986328125,
          6032.1201171875,
          6032.009765625,
          6032.7001953125,
          6033.89990234375,
          6034.0400390625,
          6034.31005859375,
          6034.31982421875,
          6034.990234375,
          6035.81982421875,
          6036.72021484375,
          6036,
          6036.06982421875,
          6037.5,
          6038.18994140625,
          6038.1201171875,
          6039.0400390625,
          6039.81982421875,
          6039.60986328125,
          6038.97021484375,
          6038.490234375,
          6038.5,
          6038.75,
          6038.35986328125,
          6038.02001953125,
          6037.0400390625,
          6037.39990234375,
          6038.419921875,
          6038.990234375,
          6039.39013671875,
          6040.25,
          6041.06005859375,
          6042.06005859375,
          6041.6201171875,
          6040.83984375,
          6040.41015625,
          6039.97998046875,
          6040.31982421875,
          6040.7099609375,
          6040.77978515625,
          6040.83984375,
          6042.27001953125,
          6042.58984375,
          6043.06005859375,
          6042.490234375,
          6042.419921875,
          6042.16015625,
          6040.7998046875,
          6039.22998046875,
          6041.10009765625,
          6040.52978515625,
          6039.6298828125,
          6038.77001953125,
          6039.18017578125,
          6039.740234375,
          6041.25,
          6041.60986328125,
          6042.39013671875,
          6042.83984375,
          6043.35009765625,
          6043.7099609375,
          6043.509765625,
          6043.2001953125,
          6042.85009765625,
          6042.2900390625,
          6042.31982421875,
          6042.02978515625,
          6042.41015625,
          6042.35009765625,
          6042.52001953125,
          6042.47998046875,
          6042.10986328125,
          6042.31982421875,
          6042.58984375,
          6043.4501953125,
          6042.77001953125,
          6041.06982421875,
          6040.33984375,
          6039.81982421875,
          6036.08984375,
          6036.009765625,
          6035.2001953125,
          6034.97021484375,
          6034.10986328125
         ],
         "yaxis": "y"
        }
       ],
       "layout": {
        "legend": {
         "tracegroupgap": 0
        },
        "margin": {
         "t": 60
        },
        "template": {
         "data": {
          "bar": [
           {
            "error_x": {
             "color": "#2a3f5f"
            },
            "error_y": {
             "color": "#2a3f5f"
            },
            "marker": {
             "line": {
              "color": "#E5ECF6",
              "width": 0.5
             },
             "pattern": {
              "fillmode": "overlay",
              "size": 10,
              "solidity": 0.2
             }
            },
            "type": "bar"
           }
          ],
          "barpolar": [
           {
            "marker": {
             "line": {
              "color": "#E5ECF6",
              "width": 0.5
             },
             "pattern": {
              "fillmode": "overlay",
              "size": 10,
              "solidity": 0.2
             }
            },
            "type": "barpolar"
           }
          ],
          "carpet": [
           {
            "aaxis": {
             "endlinecolor": "#2a3f5f",
             "gridcolor": "white",
             "linecolor": "white",
             "minorgridcolor": "white",
             "startlinecolor": "#2a3f5f"
            },
            "baxis": {
             "endlinecolor": "#2a3f5f",
             "gridcolor": "white",
             "linecolor": "white",
             "minorgridcolor": "white",
             "startlinecolor": "#2a3f5f"
            },
            "type": "carpet"
           }
          ],
          "choropleth": [
           {
            "colorbar": {
             "outlinewidth": 0,
             "ticks": ""
            },
            "type": "choropleth"
           }
          ],
          "contour": [
           {
            "colorbar": {
             "outlinewidth": 0,
             "ticks": ""
            },
            "colorscale": [
             [
              0,
              "#0d0887"
             ],
             [
              0.1111111111111111,
              "#46039f"
             ],
             [
              0.2222222222222222,
              "#7201a8"
             ],
             [
              0.3333333333333333,
              "#9c179e"
             ],
             [
              0.4444444444444444,
              "#bd3786"
             ],
             [
              0.5555555555555556,
              "#d8576b"
             ],
             [
              0.6666666666666666,
              "#ed7953"
             ],
             [
              0.7777777777777778,
              "#fb9f3a"
             ],
             [
              0.8888888888888888,
              "#fdca26"
             ],
             [
              1,
              "#f0f921"
             ]
            ],
            "type": "contour"
           }
          ],
          "contourcarpet": [
           {
            "colorbar": {
             "outlinewidth": 0,
             "ticks": ""
            },
            "type": "contourcarpet"
           }
          ],
          "heatmap": [
           {
            "colorbar": {
             "outlinewidth": 0,
             "ticks": ""
            },
            "colorscale": [
             [
              0,
              "#0d0887"
             ],
             [
              0.1111111111111111,
              "#46039f"
             ],
             [
              0.2222222222222222,
              "#7201a8"
             ],
             [
              0.3333333333333333,
              "#9c179e"
             ],
             [
              0.4444444444444444,
              "#bd3786"
             ],
             [
              0.5555555555555556,
              "#d8576b"
             ],
             [
              0.6666666666666666,
              "#ed7953"
             ],
             [
              0.7777777777777778,
              "#fb9f3a"
             ],
             [
              0.8888888888888888,
              "#fdca26"
             ],
             [
              1,
              "#f0f921"
             ]
            ],
            "type": "heatmap"
           }
          ],
          "heatmapgl": [
           {
            "colorbar": {
             "outlinewidth": 0,
             "ticks": ""
            },
            "colorscale": [
             [
              0,
              "#0d0887"
             ],
             [
              0.1111111111111111,
              "#46039f"
             ],
             [
              0.2222222222222222,
              "#7201a8"
             ],
             [
              0.3333333333333333,
              "#9c179e"
             ],
             [
              0.4444444444444444,
              "#bd3786"
             ],
             [
              0.5555555555555556,
              "#d8576b"
             ],
             [
              0.6666666666666666,
              "#ed7953"
             ],
             [
              0.7777777777777778,
              "#fb9f3a"
             ],
             [
              0.8888888888888888,
              "#fdca26"
             ],
             [
              1,
              "#f0f921"
             ]
            ],
            "type": "heatmapgl"
           }
          ],
          "histogram": [
           {
            "marker": {
             "pattern": {
              "fillmode": "overlay",
              "size": 10,
              "solidity": 0.2
             }
            },
            "type": "histogram"
           }
          ],
          "histogram2d": [
           {
            "colorbar": {
             "outlinewidth": 0,
             "ticks": ""
            },
            "colorscale": [
             [
              0,
              "#0d0887"
             ],
             [
              0.1111111111111111,
              "#46039f"
             ],
             [
              0.2222222222222222,
              "#7201a8"
             ],
             [
              0.3333333333333333,
              "#9c179e"
             ],
             [
              0.4444444444444444,
              "#bd3786"
             ],
             [
              0.5555555555555556,
              "#d8576b"
             ],
             [
              0.6666666666666666,
              "#ed7953"
             ],
             [
              0.7777777777777778,
              "#fb9f3a"
             ],
             [
              0.8888888888888888,
              "#fdca26"
             ],
             [
              1,
              "#f0f921"
             ]
            ],
            "type": "histogram2d"
           }
          ],
          "histogram2dcontour": [
           {
            "colorbar": {
             "outlinewidth": 0,
             "ticks": ""
            },
            "colorscale": [
             [
              0,
              "#0d0887"
             ],
             [
              0.1111111111111111,
              "#46039f"
             ],
             [
              0.2222222222222222,
              "#7201a8"
             ],
             [
              0.3333333333333333,
              "#9c179e"
             ],
             [
              0.4444444444444444,
              "#bd3786"
             ],
             [
              0.5555555555555556,
              "#d8576b"
             ],
             [
              0.6666666666666666,
              "#ed7953"
             ],
             [
              0.7777777777777778,
              "#fb9f3a"
             ],
             [
              0.8888888888888888,
              "#fdca26"
             ],
             [
              1,
              "#f0f921"
             ]
            ],
            "type": "histogram2dcontour"
           }
          ],
          "mesh3d": [
           {
            "colorbar": {
             "outlinewidth": 0,
             "ticks": ""
            },
            "type": "mesh3d"
           }
          ],
          "parcoords": [
           {
            "line": {
             "colorbar": {
              "outlinewidth": 0,
              "ticks": ""
             }
            },
            "type": "parcoords"
           }
          ],
          "pie": [
           {
            "automargin": true,
            "type": "pie"
           }
          ],
          "scatter": [
           {
            "fillpattern": {
             "fillmode": "overlay",
             "size": 10,
             "solidity": 0.2
            },
            "type": "scatter"
           }
          ],
          "scatter3d": [
           {
            "line": {
             "colorbar": {
              "outlinewidth": 0,
              "ticks": ""
             }
            },
            "marker": {
             "colorbar": {
              "outlinewidth": 0,
              "ticks": ""
             }
            },
            "type": "scatter3d"
           }
          ],
          "scattercarpet": [
           {
            "marker": {
             "colorbar": {
              "outlinewidth": 0,
              "ticks": ""
             }
            },
            "type": "scattercarpet"
           }
          ],
          "scattergeo": [
           {
            "marker": {
             "colorbar": {
              "outlinewidth": 0,
              "ticks": ""
             }
            },
            "type": "scattergeo"
           }
          ],
          "scattergl": [
           {
            "marker": {
             "colorbar": {
              "outlinewidth": 0,
              "ticks": ""
             }
            },
            "type": "scattergl"
           }
          ],
          "scattermapbox": [
           {
            "marker": {
             "colorbar": {
              "outlinewidth": 0,
              "ticks": ""
             }
            },
            "type": "scattermapbox"
           }
          ],
          "scatterpolar": [
           {
            "marker": {
             "colorbar": {
              "outlinewidth": 0,
              "ticks": ""
             }
            },
            "type": "scatterpolar"
           }
          ],
          "scatterpolargl": [
           {
            "marker": {
             "colorbar": {
              "outlinewidth": 0,
              "ticks": ""
             }
            },
            "type": "scatterpolargl"
           }
          ],
          "scatterternary": [
           {
            "marker": {
             "colorbar": {
              "outlinewidth": 0,
              "ticks": ""
             }
            },
            "type": "scatterternary"
           }
          ],
          "surface": [
           {
            "colorbar": {
             "outlinewidth": 0,
             "ticks": ""
            },
            "colorscale": [
             [
              0,
              "#0d0887"
             ],
             [
              0.1111111111111111,
              "#46039f"
             ],
             [
              0.2222222222222222,
              "#7201a8"
             ],
             [
              0.3333333333333333,
              "#9c179e"
             ],
             [
              0.4444444444444444,
              "#bd3786"
             ],
             [
              0.5555555555555556,
              "#d8576b"
             ],
             [
              0.6666666666666666,
              "#ed7953"
             ],
             [
              0.7777777777777778,
              "#fb9f3a"
             ],
             [
              0.8888888888888888,
              "#fdca26"
             ],
             [
              1,
              "#f0f921"
             ]
            ],
            "type": "surface"
           }
          ],
          "table": [
           {
            "cells": {
             "fill": {
              "color": "#EBF0F8"
             },
             "line": {
              "color": "white"
             }
            },
            "header": {
             "fill": {
              "color": "#C8D4E3"
             },
             "line": {
              "color": "white"
             }
            },
            "type": "table"
           }
          ]
         },
         "layout": {
          "annotationdefaults": {
           "arrowcolor": "#2a3f5f",
           "arrowhead": 0,
           "arrowwidth": 1
          },
          "autotypenumbers": "strict",
          "coloraxis": {
           "colorbar": {
            "outlinewidth": 0,
            "ticks": ""
           }
          },
          "colorscale": {
           "diverging": [
            [
             0,
             "#8e0152"
            ],
            [
             0.1,
             "#c51b7d"
            ],
            [
             0.2,
             "#de77ae"
            ],
            [
             0.3,
             "#f1b6da"
            ],
            [
             0.4,
             "#fde0ef"
            ],
            [
             0.5,
             "#f7f7f7"
            ],
            [
             0.6,
             "#e6f5d0"
            ],
            [
             0.7,
             "#b8e186"
            ],
            [
             0.8,
             "#7fbc41"
            ],
            [
             0.9,
             "#4d9221"
            ],
            [
             1,
             "#276419"
            ]
           ],
           "sequential": [
            [
             0,
             "#0d0887"
            ],
            [
             0.1111111111111111,
             "#46039f"
            ],
            [
             0.2222222222222222,
             "#7201a8"
            ],
            [
             0.3333333333333333,
             "#9c179e"
            ],
            [
             0.4444444444444444,
             "#bd3786"
            ],
            [
             0.5555555555555556,
             "#d8576b"
            ],
            [
             0.6666666666666666,
             "#ed7953"
            ],
            [
             0.7777777777777778,
             "#fb9f3a"
            ],
            [
             0.8888888888888888,
             "#fdca26"
            ],
            [
             1,
             "#f0f921"
            ]
           ],
           "sequentialminus": [
            [
             0,
             "#0d0887"
            ],
            [
             0.1111111111111111,
             "#46039f"
            ],
            [
             0.2222222222222222,
             "#7201a8"
            ],
            [
             0.3333333333333333,
             "#9c179e"
            ],
            [
             0.4444444444444444,
             "#bd3786"
            ],
            [
             0.5555555555555556,
             "#d8576b"
            ],
            [
             0.6666666666666666,
             "#ed7953"
            ],
            [
             0.7777777777777778,
             "#fb9f3a"
            ],
            [
             0.8888888888888888,
             "#fdca26"
            ],
            [
             1,
             "#f0f921"
            ]
           ]
          },
          "colorway": [
           "#636efa",
           "#EF553B",
           "#00cc96",
           "#ab63fa",
           "#FFA15A",
           "#19d3f3",
           "#FF6692",
           "#B6E880",
           "#FF97FF",
           "#FECB52"
          ],
          "font": {
           "color": "#2a3f5f"
          },
          "geo": {
           "bgcolor": "white",
           "lakecolor": "white",
           "landcolor": "#E5ECF6",
           "showlakes": true,
           "showland": true,
           "subunitcolor": "white"
          },
          "hoverlabel": {
           "align": "left"
          },
          "hovermode": "closest",
          "mapbox": {
           "style": "light"
          },
          "paper_bgcolor": "white",
          "plot_bgcolor": "#E5ECF6",
          "polar": {
           "angularaxis": {
            "gridcolor": "white",
            "linecolor": "white",
            "ticks": ""
           },
           "bgcolor": "#E5ECF6",
           "radialaxis": {
            "gridcolor": "white",
            "linecolor": "white",
            "ticks": ""
           }
          },
          "scene": {
           "xaxis": {
            "backgroundcolor": "#E5ECF6",
            "gridcolor": "white",
            "gridwidth": 2,
            "linecolor": "white",
            "showbackground": true,
            "ticks": "",
            "zerolinecolor": "white"
           },
           "yaxis": {
            "backgroundcolor": "#E5ECF6",
            "gridcolor": "white",
            "gridwidth": 2,
            "linecolor": "white",
            "showbackground": true,
            "ticks": "",
            "zerolinecolor": "white"
           },
           "zaxis": {
            "backgroundcolor": "#E5ECF6",
            "gridcolor": "white",
            "gridwidth": 2,
            "linecolor": "white",
            "showbackground": true,
            "ticks": "",
            "zerolinecolor": "white"
           }
          },
          "shapedefaults": {
           "line": {
            "color": "#2a3f5f"
           }
          },
          "ternary": {
           "aaxis": {
            "gridcolor": "white",
            "linecolor": "white",
            "ticks": ""
           },
           "baxis": {
            "gridcolor": "white",
            "linecolor": "white",
            "ticks": ""
           },
           "bgcolor": "#E5ECF6",
           "caxis": {
            "gridcolor": "white",
            "linecolor": "white",
            "ticks": ""
           }
          },
          "title": {
           "x": 0.05
          },
          "xaxis": {
           "automargin": true,
           "gridcolor": "white",
           "linecolor": "white",
           "ticks": "",
           "title": {
            "standoff": 15
           },
           "zerolinecolor": "white",
           "zerolinewidth": 2
          },
          "yaxis": {
           "automargin": true,
           "gridcolor": "white",
           "linecolor": "white",
           "ticks": "",
           "title": {
            "standoff": 15
           },
           "zerolinecolor": "white",
           "zerolinewidth": 2
          }
         }
        },
        "title": {
         "text": "SNP&500 Close Price Minute Data for the Last 5 days"
        },
        "xaxis": {
         "anchor": "y",
         "domain": [
          0,
          1
         ],
         "title": {
          "text": "Datetime"
         }
        },
        "yaxis": {
         "anchor": "x",
         "domain": [
          0,
          1
         ],
         "title": {
          "text": "Close"
         }
        }
       }
      }
     },
     "metadata": {},
     "output_type": "display_data"
    }
   ],
   "source": [
    "# df.index = pd.to_datetime(df['index'])\n",
    "\n",
    "# Plotting the line plot using plotly express\n",
    "fig = px.line(df, x=df.index, y='Close')\n",
    "fig.update_layout(title=f\"SNP&500 Close Price Minute Data for the Last {days_back} days\")"
   ]
  },
  {
   "cell_type": "code",
   "execution_count": 30,
   "metadata": {},
   "outputs": [
    {
     "data": {
      "text/plain": [
       "6022.81982421875"
      ]
     },
     "execution_count": 30,
     "metadata": {},
     "output_type": "execute_result"
    }
   ],
   "source": [
    "# first value\n",
    "first_value = df.head(1).Close.to_numpy()[0]\n",
    "first_value"
   ]
  },
  {
   "cell_type": "code",
   "execution_count": 31,
   "metadata": {},
   "outputs": [
    {
     "data": {
      "text/plain": [
       "numpy.datetime64('2024-11-26T15:58:00.000000000')"
      ]
     },
     "execution_count": 31,
     "metadata": {},
     "output_type": "execute_result"
    }
   ],
   "source": [
    "# first datetime\n",
    "first_datetime = df.head(1).index.to_numpy()[0]\n",
    "first_datetime"
   ]
  },
  {
   "cell_type": "code",
   "execution_count": 32,
   "metadata": {},
   "outputs": [],
   "source": [
    "# growth to the first value\n",
    "df['Growth'] = 100.0 * df.Close/first_value"
   ]
  },
  {
   "cell_type": "code",
   "execution_count": 33,
   "metadata": {},
   "outputs": [
    {
     "data": {
      "application/vnd.plotly.v1+json": {
       "config": {
        "plotlyServerURL": "https://plot.ly"
       },
       "data": [
        {
         "hovertemplate": "Datetime=%{x}<br>Growth=%{y}<extra></extra>",
         "legendgroup": "",
         "line": {
          "color": "#636efa",
          "dash": "solid"
         },
         "marker": {
          "symbol": "circle"
         },
         "mode": "lines",
         "name": "",
         "orientation": "v",
         "showlegend": false,
         "type": "scatter",
         "x": [
          "2024-11-26T15:58:00",
          "2024-11-26T15:59:00",
          "2024-11-27T09:30:00",
          "2024-11-27T09:31:00",
          "2024-11-27T09:32:00",
          "2024-11-27T09:33:00",
          "2024-11-27T09:34:00",
          "2024-11-27T09:35:00",
          "2024-11-27T09:36:00",
          "2024-11-27T09:37:00",
          "2024-11-27T09:38:00",
          "2024-11-27T09:39:00",
          "2024-11-27T09:40:00",
          "2024-11-27T09:41:00",
          "2024-11-27T09:42:00",
          "2024-11-27T09:43:00",
          "2024-11-27T09:44:00",
          "2024-11-27T09:45:00",
          "2024-11-27T09:46:00",
          "2024-11-27T09:47:00",
          "2024-11-27T09:48:00",
          "2024-11-27T09:49:00",
          "2024-11-27T09:50:00",
          "2024-11-27T09:51:00",
          "2024-11-27T09:52:00",
          "2024-11-27T09:53:00",
          "2024-11-27T09:54:00",
          "2024-11-27T09:55:00",
          "2024-11-27T09:56:00",
          "2024-11-27T09:57:00",
          "2024-11-27T09:58:00",
          "2024-11-27T09:59:00",
          "2024-11-27T10:00:00",
          "2024-11-27T10:01:00",
          "2024-11-27T10:02:00",
          "2024-11-27T10:03:00",
          "2024-11-27T10:04:00",
          "2024-11-27T10:05:00",
          "2024-11-27T10:06:00",
          "2024-11-27T10:07:00",
          "2024-11-27T10:08:00",
          "2024-11-27T10:09:00",
          "2024-11-27T10:10:00",
          "2024-11-27T10:11:00",
          "2024-11-27T10:12:00",
          "2024-11-27T10:13:00",
          "2024-11-27T10:14:00",
          "2024-11-27T10:15:00",
          "2024-11-27T10:16:00",
          "2024-11-27T10:17:00",
          "2024-11-27T10:18:00",
          "2024-11-27T10:19:00",
          "2024-11-27T10:20:00",
          "2024-11-27T10:21:00",
          "2024-11-27T10:22:00",
          "2024-11-27T10:23:00",
          "2024-11-27T10:24:00",
          "2024-11-27T10:25:00",
          "2024-11-27T10:26:00",
          "2024-11-27T10:27:00",
          "2024-11-27T10:28:00",
          "2024-11-27T10:29:00",
          "2024-11-27T10:30:00",
          "2024-11-27T10:31:00",
          "2024-11-27T10:32:00",
          "2024-11-27T10:33:00",
          "2024-11-27T10:34:00",
          "2024-11-27T10:35:00",
          "2024-11-27T10:36:00",
          "2024-11-27T10:37:00",
          "2024-11-27T10:38:00",
          "2024-11-27T10:39:00",
          "2024-11-27T10:40:00",
          "2024-11-27T10:41:00",
          "2024-11-27T10:42:00",
          "2024-11-27T10:43:00",
          "2024-11-27T10:44:00",
          "2024-11-27T10:45:00",
          "2024-11-27T10:48:00",
          "2024-11-27T10:49:00",
          "2024-11-27T10:50:00",
          "2024-11-27T10:51:00",
          "2024-11-27T10:52:00",
          "2024-11-27T10:53:00",
          "2024-11-27T10:54:00",
          "2024-11-27T10:55:00",
          "2024-11-27T10:56:00",
          "2024-11-27T10:57:00",
          "2024-11-27T10:58:00",
          "2024-11-27T10:59:00",
          "2024-11-27T11:00:00",
          "2024-11-27T11:01:00",
          "2024-11-27T11:02:00",
          "2024-11-27T11:03:00",
          "2024-11-27T11:04:00",
          "2024-11-27T11:05:00",
          "2024-11-27T11:06:00",
          "2024-11-27T11:07:00",
          "2024-11-27T11:08:00",
          "2024-11-27T11:09:00",
          "2024-11-27T11:10:00",
          "2024-11-27T11:11:00",
          "2024-11-27T11:12:00",
          "2024-11-27T11:13:00",
          "2024-11-27T11:14:00",
          "2024-11-27T11:15:00",
          "2024-11-27T11:16:00",
          "2024-11-27T11:17:00",
          "2024-11-27T11:18:00",
          "2024-11-27T11:19:00",
          "2024-11-27T11:20:00",
          "2024-11-27T11:21:00",
          "2024-11-27T11:22:00",
          "2024-11-27T11:23:00",
          "2024-11-27T11:24:00",
          "2024-11-27T11:25:00",
          "2024-11-27T11:26:00",
          "2024-11-27T11:27:00",
          "2024-11-27T11:28:00",
          "2024-11-27T11:29:00",
          "2024-11-27T11:30:00",
          "2024-11-27T11:31:00",
          "2024-11-27T11:32:00",
          "2024-11-27T11:33:00",
          "2024-11-27T11:34:00",
          "2024-11-27T11:35:00",
          "2024-11-27T11:36:00",
          "2024-11-27T11:37:00",
          "2024-11-27T11:38:00",
          "2024-11-27T11:39:00",
          "2024-11-27T11:40:00",
          "2024-11-27T11:41:00",
          "2024-11-27T11:42:00",
          "2024-11-27T11:43:00",
          "2024-11-27T11:44:00",
          "2024-11-27T11:45:00",
          "2024-11-27T11:46:00",
          "2024-11-27T11:47:00",
          "2024-11-27T11:48:00",
          "2024-11-27T11:49:00",
          "2024-11-27T11:50:00",
          "2024-11-27T11:51:00",
          "2024-11-27T11:52:00",
          "2024-11-27T11:53:00",
          "2024-11-27T11:54:00",
          "2024-11-27T11:55:00",
          "2024-11-27T11:56:00",
          "2024-11-27T11:57:00",
          "2024-11-27T11:58:00",
          "2024-11-27T11:59:00",
          "2024-11-27T12:00:00",
          "2024-11-27T12:01:00",
          "2024-11-27T12:02:00",
          "2024-11-27T12:03:00",
          "2024-11-27T12:04:00",
          "2024-11-27T12:05:00",
          "2024-11-27T12:06:00",
          "2024-11-27T12:07:00",
          "2024-11-27T12:08:00",
          "2024-11-27T12:09:00",
          "2024-11-27T12:10:00",
          "2024-11-27T12:11:00",
          "2024-11-27T12:12:00",
          "2024-11-27T12:13:00",
          "2024-11-27T12:14:00",
          "2024-11-27T12:15:00",
          "2024-11-27T12:16:00",
          "2024-11-27T12:17:00",
          "2024-11-27T12:18:00",
          "2024-11-27T12:19:00",
          "2024-11-27T12:20:00",
          "2024-11-27T12:21:00",
          "2024-11-27T12:22:00",
          "2024-11-27T12:23:00",
          "2024-11-27T12:24:00",
          "2024-11-27T12:25:00",
          "2024-11-27T12:26:00",
          "2024-11-27T12:27:00",
          "2024-11-27T12:28:00",
          "2024-11-27T12:29:00",
          "2024-11-27T12:30:00",
          "2024-11-27T12:31:00",
          "2024-11-27T12:32:00",
          "2024-11-27T12:33:00",
          "2024-11-27T12:34:00",
          "2024-11-27T12:35:00",
          "2024-11-27T12:36:00",
          "2024-11-27T12:37:00",
          "2024-11-27T12:38:00",
          "2024-11-27T12:39:00",
          "2024-11-27T12:40:00",
          "2024-11-27T12:41:00",
          "2024-11-27T12:42:00",
          "2024-11-27T12:43:00",
          "2024-11-27T12:44:00",
          "2024-11-27T12:45:00",
          "2024-11-27T12:46:00",
          "2024-11-27T12:47:00",
          "2024-11-27T12:48:00",
          "2024-11-27T12:49:00",
          "2024-11-27T12:50:00",
          "2024-11-27T12:51:00",
          "2024-11-27T12:52:00",
          "2024-11-27T12:53:00",
          "2024-11-27T12:54:00",
          "2024-11-27T12:55:00",
          "2024-11-27T12:56:00",
          "2024-11-27T12:57:00",
          "2024-11-27T12:58:00",
          "2024-11-27T12:59:00",
          "2024-11-27T13:00:00",
          "2024-11-27T13:01:00",
          "2024-11-27T13:02:00",
          "2024-11-27T13:03:00",
          "2024-11-27T13:04:00",
          "2024-11-27T13:05:00",
          "2024-11-27T13:06:00",
          "2024-11-27T13:07:00",
          "2024-11-27T13:08:00",
          "2024-11-27T13:09:00",
          "2024-11-27T13:10:00",
          "2024-11-27T13:11:00",
          "2024-11-27T13:12:00",
          "2024-11-27T13:13:00",
          "2024-11-27T13:14:00",
          "2024-11-27T13:15:00",
          "2024-11-27T13:16:00",
          "2024-11-27T13:17:00",
          "2024-11-27T13:18:00",
          "2024-11-27T13:19:00",
          "2024-11-27T13:20:00",
          "2024-11-27T13:21:00",
          "2024-11-27T13:22:00",
          "2024-11-27T13:23:00",
          "2024-11-27T13:24:00",
          "2024-11-27T13:25:00",
          "2024-11-27T13:26:00",
          "2024-11-27T13:27:00",
          "2024-11-27T13:28:00",
          "2024-11-27T13:29:00",
          "2024-11-27T13:30:00",
          "2024-11-27T13:31:00",
          "2024-11-27T13:32:00",
          "2024-11-27T13:33:00",
          "2024-11-27T13:34:00",
          "2024-11-27T13:35:00",
          "2024-11-27T13:36:00",
          "2024-11-27T13:37:00",
          "2024-11-27T13:38:00",
          "2024-11-27T13:39:00",
          "2024-11-27T13:40:00",
          "2024-11-27T13:41:00",
          "2024-11-27T13:42:00",
          "2024-11-27T13:43:00",
          "2024-11-27T13:44:00",
          "2024-11-27T13:45:00",
          "2024-11-27T13:46:00",
          "2024-11-27T13:47:00",
          "2024-11-27T13:48:00",
          "2024-11-27T13:49:00",
          "2024-11-27T13:50:00",
          "2024-11-27T13:51:00",
          "2024-11-27T13:52:00",
          "2024-11-27T13:53:00",
          "2024-11-27T13:54:00",
          "2024-11-27T13:55:00",
          "2024-11-27T13:56:00",
          "2024-11-27T13:57:00",
          "2024-11-27T13:58:00",
          "2024-11-27T13:59:00",
          "2024-11-27T14:00:00",
          "2024-11-27T14:01:00",
          "2024-11-27T14:02:00",
          "2024-11-27T14:03:00",
          "2024-11-27T14:04:00",
          "2024-11-27T14:05:00",
          "2024-11-27T14:06:00",
          "2024-11-27T14:07:00",
          "2024-11-27T14:08:00",
          "2024-11-27T14:09:00",
          "2024-11-27T14:10:00",
          "2024-11-27T14:11:00",
          "2024-11-27T14:12:00",
          "2024-11-27T14:13:00",
          "2024-11-27T14:14:00",
          "2024-11-27T14:15:00",
          "2024-11-27T14:16:00",
          "2024-11-27T14:17:00",
          "2024-11-27T14:18:00",
          "2024-11-27T14:19:00",
          "2024-11-27T14:20:00",
          "2024-11-27T14:21:00",
          "2024-11-27T14:22:00",
          "2024-11-27T14:23:00",
          "2024-11-27T14:24:00",
          "2024-11-27T14:25:00",
          "2024-11-27T14:26:00",
          "2024-11-27T14:27:00",
          "2024-11-27T14:28:00",
          "2024-11-27T14:29:00",
          "2024-11-27T14:30:00",
          "2024-11-27T14:31:00",
          "2024-11-27T14:32:00",
          "2024-11-27T14:33:00",
          "2024-11-27T14:34:00",
          "2024-11-27T14:35:00",
          "2024-11-27T14:36:00",
          "2024-11-27T14:37:00",
          "2024-11-27T14:38:00",
          "2024-11-27T14:39:00",
          "2024-11-27T14:40:00",
          "2024-11-27T14:41:00",
          "2024-11-27T14:42:00",
          "2024-11-27T14:43:00",
          "2024-11-27T14:44:00",
          "2024-11-27T14:45:00",
          "2024-11-27T14:46:00",
          "2024-11-27T14:47:00",
          "2024-11-27T14:48:00",
          "2024-11-27T14:49:00",
          "2024-11-27T14:50:00",
          "2024-11-27T14:51:00",
          "2024-11-27T14:52:00",
          "2024-11-27T14:53:00",
          "2024-11-27T14:54:00",
          "2024-11-27T14:55:00",
          "2024-11-27T14:56:00",
          "2024-11-27T14:57:00",
          "2024-11-27T14:58:00",
          "2024-11-27T14:59:00",
          "2024-11-27T15:00:00",
          "2024-11-27T15:01:00",
          "2024-11-27T15:02:00",
          "2024-11-27T15:03:00",
          "2024-11-27T15:04:00",
          "2024-11-27T15:05:00",
          "2024-11-27T15:06:00",
          "2024-11-27T15:07:00",
          "2024-11-27T15:08:00",
          "2024-11-27T15:09:00",
          "2024-11-27T15:10:00",
          "2024-11-27T15:11:00",
          "2024-11-27T15:12:00",
          "2024-11-27T15:13:00",
          "2024-11-27T15:14:00",
          "2024-11-27T15:15:00",
          "2024-11-27T15:16:00",
          "2024-11-27T15:17:00",
          "2024-11-27T15:18:00",
          "2024-11-27T15:19:00",
          "2024-11-27T15:20:00",
          "2024-11-27T15:21:00",
          "2024-11-27T15:22:00",
          "2024-11-27T15:23:00",
          "2024-11-27T15:24:00",
          "2024-11-27T15:25:00",
          "2024-11-27T15:26:00",
          "2024-11-27T15:27:00",
          "2024-11-27T15:28:00",
          "2024-11-27T15:29:00",
          "2024-11-27T15:30:00",
          "2024-11-27T15:31:00",
          "2024-11-27T15:32:00",
          "2024-11-27T15:33:00",
          "2024-11-27T15:34:00",
          "2024-11-27T15:35:00",
          "2024-11-27T15:36:00",
          "2024-11-27T15:37:00",
          "2024-11-27T15:38:00",
          "2024-11-27T15:39:00",
          "2024-11-27T15:40:00",
          "2024-11-27T15:41:00",
          "2024-11-27T15:42:00",
          "2024-11-27T15:43:00",
          "2024-11-27T15:44:00",
          "2024-11-27T15:45:00",
          "2024-11-27T15:46:00",
          "2024-11-27T15:47:00",
          "2024-11-27T15:48:00",
          "2024-11-27T15:49:00",
          "2024-11-27T15:50:00",
          "2024-11-27T15:51:00",
          "2024-11-27T15:52:00",
          "2024-11-27T15:53:00",
          "2024-11-27T15:54:00",
          "2024-11-27T15:55:00",
          "2024-11-27T15:56:00",
          "2024-11-27T15:57:00",
          "2024-11-27T15:58:00",
          "2024-11-27T15:59:00",
          "2024-11-29T09:30:00",
          "2024-11-29T09:31:00",
          "2024-11-29T09:32:00",
          "2024-11-29T09:33:00",
          "2024-11-29T09:34:00",
          "2024-11-29T09:35:00",
          "2024-11-29T09:36:00",
          "2024-11-29T09:37:00",
          "2024-11-29T09:38:00",
          "2024-11-29T09:39:00",
          "2024-11-29T09:40:00",
          "2024-11-29T09:41:00",
          "2024-11-29T09:42:00",
          "2024-11-29T09:43:00",
          "2024-11-29T09:44:00",
          "2024-11-29T09:45:00",
          "2024-11-29T09:46:00",
          "2024-11-29T09:47:00",
          "2024-11-29T09:48:00",
          "2024-11-29T09:49:00",
          "2024-11-29T09:50:00",
          "2024-11-29T09:51:00",
          "2024-11-29T09:52:00",
          "2024-11-29T09:53:00",
          "2024-11-29T09:54:00",
          "2024-11-29T09:55:00",
          "2024-11-29T09:56:00",
          "2024-11-29T09:57:00",
          "2024-11-29T09:58:00",
          "2024-11-29T09:59:00",
          "2024-11-29T10:00:00",
          "2024-11-29T10:01:00",
          "2024-11-29T10:02:00",
          "2024-11-29T10:03:00",
          "2024-11-29T10:04:00",
          "2024-11-29T10:05:00",
          "2024-11-29T10:06:00",
          "2024-11-29T10:07:00",
          "2024-11-29T10:08:00",
          "2024-11-29T10:09:00",
          "2024-11-29T10:10:00",
          "2024-11-29T10:11:00",
          "2024-11-29T10:12:00",
          "2024-11-29T10:13:00",
          "2024-11-29T10:14:00",
          "2024-11-29T10:15:00",
          "2024-11-29T10:16:00",
          "2024-11-29T10:17:00",
          "2024-11-29T10:18:00",
          "2024-11-29T10:19:00",
          "2024-11-29T10:20:00",
          "2024-11-29T10:21:00",
          "2024-11-29T10:22:00",
          "2024-11-29T10:23:00",
          "2024-11-29T10:24:00",
          "2024-11-29T10:25:00",
          "2024-11-29T10:26:00",
          "2024-11-29T10:27:00",
          "2024-11-29T10:28:00",
          "2024-11-29T10:29:00",
          "2024-11-29T10:30:00",
          "2024-11-29T10:31:00",
          "2024-11-29T10:32:00",
          "2024-11-29T10:33:00",
          "2024-11-29T10:34:00",
          "2024-11-29T10:35:00",
          "2024-11-29T10:36:00",
          "2024-11-29T10:37:00",
          "2024-11-29T10:38:00",
          "2024-11-29T10:39:00",
          "2024-11-29T10:40:00",
          "2024-11-29T10:41:00",
          "2024-11-29T10:42:00",
          "2024-11-29T10:43:00",
          "2024-11-29T10:44:00",
          "2024-11-29T10:45:00",
          "2024-11-29T10:46:00",
          "2024-11-29T10:47:00",
          "2024-11-29T10:48:00",
          "2024-11-29T10:49:00",
          "2024-11-29T10:50:00",
          "2024-11-29T10:51:00",
          "2024-11-29T10:52:00",
          "2024-11-29T10:53:00",
          "2024-11-29T10:54:00",
          "2024-11-29T10:55:00",
          "2024-11-29T10:56:00",
          "2024-11-29T10:57:00",
          "2024-11-29T10:58:00",
          "2024-11-29T10:59:00",
          "2024-11-29T11:00:00",
          "2024-11-29T11:01:00",
          "2024-11-29T11:02:00",
          "2024-11-29T11:03:00",
          "2024-11-29T11:04:00",
          "2024-11-29T11:05:00",
          "2024-11-29T11:06:00",
          "2024-11-29T11:07:00",
          "2024-11-29T11:08:00",
          "2024-11-29T11:09:00",
          "2024-11-29T11:10:00",
          "2024-11-29T11:11:00",
          "2024-11-29T11:12:00",
          "2024-11-29T11:13:00",
          "2024-11-29T11:14:00",
          "2024-11-29T11:15:00",
          "2024-11-29T11:16:00",
          "2024-11-29T11:17:00",
          "2024-11-29T11:18:00",
          "2024-11-29T11:19:00",
          "2024-11-29T11:20:00",
          "2024-11-29T11:21:00",
          "2024-11-29T11:22:00",
          "2024-11-29T11:23:00",
          "2024-11-29T11:24:00",
          "2024-11-29T11:25:00",
          "2024-11-29T11:26:00",
          "2024-11-29T11:27:00",
          "2024-11-29T11:28:00",
          "2024-11-29T11:29:00",
          "2024-11-29T11:30:00",
          "2024-11-29T11:31:00",
          "2024-11-29T11:32:00",
          "2024-11-29T11:33:00",
          "2024-11-29T11:34:00",
          "2024-11-29T11:35:00",
          "2024-11-29T11:36:00",
          "2024-11-29T11:37:00",
          "2024-11-29T11:38:00",
          "2024-11-29T11:39:00",
          "2024-11-29T11:40:00",
          "2024-11-29T11:41:00",
          "2024-11-29T11:42:00",
          "2024-11-29T11:43:00",
          "2024-11-29T11:44:00",
          "2024-11-29T11:45:00",
          "2024-11-29T11:46:00",
          "2024-11-29T11:47:00",
          "2024-11-29T11:48:00",
          "2024-11-29T11:49:00",
          "2024-11-29T11:50:00",
          "2024-11-29T11:51:00",
          "2024-11-29T11:52:00",
          "2024-11-29T11:53:00",
          "2024-11-29T11:54:00",
          "2024-11-29T11:55:00",
          "2024-11-29T11:56:00",
          "2024-11-29T11:57:00",
          "2024-11-29T11:58:00",
          "2024-11-29T11:59:00",
          "2024-11-29T12:00:00",
          "2024-11-29T12:01:00",
          "2024-11-29T12:02:00",
          "2024-11-29T12:03:00",
          "2024-11-29T12:04:00",
          "2024-11-29T12:05:00",
          "2024-11-29T12:06:00",
          "2024-11-29T12:07:00",
          "2024-11-29T12:08:00",
          "2024-11-29T12:09:00",
          "2024-11-29T12:10:00",
          "2024-11-29T12:11:00",
          "2024-11-29T12:12:00",
          "2024-11-29T12:13:00",
          "2024-11-29T12:14:00",
          "2024-11-29T12:15:00",
          "2024-11-29T12:16:00",
          "2024-11-29T12:17:00",
          "2024-11-29T12:18:00",
          "2024-11-29T12:19:00",
          "2024-11-29T12:20:00",
          "2024-11-29T12:21:00",
          "2024-11-29T12:22:00",
          "2024-11-29T12:23:00",
          "2024-11-29T12:24:00",
          "2024-11-29T12:25:00",
          "2024-11-29T12:26:00",
          "2024-11-29T12:27:00",
          "2024-11-29T12:28:00",
          "2024-11-29T12:29:00",
          "2024-11-29T12:30:00",
          "2024-11-29T12:31:00",
          "2024-11-29T12:32:00",
          "2024-11-29T12:33:00",
          "2024-11-29T12:34:00",
          "2024-11-29T12:35:00",
          "2024-11-29T12:36:00",
          "2024-11-29T12:37:00",
          "2024-11-29T12:38:00",
          "2024-11-29T12:39:00",
          "2024-11-29T12:40:00",
          "2024-11-29T12:41:00",
          "2024-11-29T12:42:00",
          "2024-11-29T12:43:00",
          "2024-11-29T12:44:00",
          "2024-11-29T12:45:00",
          "2024-11-29T12:46:00",
          "2024-11-29T12:47:00",
          "2024-11-29T12:48:00",
          "2024-11-29T12:49:00",
          "2024-11-29T12:50:00",
          "2024-11-29T12:51:00",
          "2024-11-29T12:52:00",
          "2024-11-29T12:53:00",
          "2024-11-29T12:54:00",
          "2024-11-29T12:55:00",
          "2024-11-29T12:56:00",
          "2024-11-29T12:57:00",
          "2024-11-29T12:58:00",
          "2024-11-29T12:59:00"
         ],
         "xaxis": "x",
         "y": [
          100,
          99.96547149168588,
          99.80972432727577,
          99.81287802291658,
          99.8425989694955,
          99.93292113693565,
          99.90004649471594,
          99.85604879229265,
          99.83479985585421,
          99.84409879904189,
          99.85438681901151,
          99.8416017855268,
          99.84974140101104,
          99.88178911018356,
          99.88444016024665,
          99.91631761849769,
          99.90685653157526,
          99.89772783930907,
          99.94305512035727,
          99.93358592624811,
          99.92113328741964,
          99.91482589613803,
          99.90237325730953,
          99.8608644612146,
          99.8714929830272,
          99.8522303073394,
          99.8326433441821,
          99.84841182238613,
          99.86036992282364,
          99.86867168204262,
          99.88444016024665,
          99.87613840102766,
          99.84359615346418,
          99.79378559815027,
          99.84409879904189,
          99.82998418693226,
          99.84376640438566,
          99.83313788257307,
          99.85090072871448,
          99.85306534757333,
          99.8618616451833,
          99.83313788257307,
          99.84692010002647,
          99.82716288594769,
          99.79129669182191,
          99.7849893005403,
          99.77801711994623,
          99.75659793258632,
          99.7552683539614,
          99.76672380882118,
          99.77900619672818,
          99.79660689913484,
          99.79926605638467,
          99.77386624033674,
          99.7511174743519,
          99.78781060152488,
          99.75991377196186,
          99.74812592244584,
          99.72720938066362,
          99.69183772492883,
          99.71940215983562,
          99.69715603942849,
          99.71027346756942,
          99.70794670497583,
          99.69598860453833,
          99.71740779189824,
          99.68603297922493,
          99.68801923997556,
          99.63937611955181,
          99.57345658419091,
          99.59454337689459,
          99.58989795889413,
          99.64219742053639,
          99.696985788507,
          99.7034634307101,
          99.71890762144464,
          99.73717311316376,
          99.7076143103196,
          99.66212488553666,
          99.65431766470864,
          99.65614178172454,
          99.62127277156745,
          99.65398527005242,
          99.64784002250555,
          99.65249354769276,
          99.6219375608799,
          99.63771414627067,
          99.64801027342703,
          99.65880093897437,
          99.61911625989532,
          99.60401257100375,
          99.531453249705,
          99.54174937686136,
          99.5684787715342,
          99.56681679825306,
          99.56349285169077,
          99.60981731670765,
          99.60384232008226,
          99.60882013273897,
          99.62393192881729,
          99.57196486183125,
          99.54324109922102,
          99.59404883850362,
          99.57860464776908,
          99.5776074638004,
          99.58441750065973,
          99.55005113608034,
          99.54440042692445,
          99.55320483172115,
          99.55685306575293,
          99.58242313272235,
          99.58159619967515,
          99.57777771472188,
          99.57412137350336,
          99.56150659094014,
          99.55420201568984,
          99.56930570458141,
          99.53975500892399,
          99.53759849725186,
          99.54872155745542,
          99.531453249705,
          99.54224391525233,
          99.56598986520586,
          99.55868528995556,
          99.58823598561298,
          99.61679760448847,
          99.61978104920779,
          99.63937611955181,
          99.63007717636414,
          99.64817241716177,
          99.64568351083344,
          99.63804654092691,
          99.60899038366045,
          99.6065014773321,
          99.55436415942458,
          99.56449003565946,
          99.52414867445471,
          99.51733863759537,
          99.51302561425113,
          99.49940554053249,
          99.4929278983294,
          99.49940554053249,
          99.51052860073605,
          99.52215430651732,
          99.50173230312609,
          99.49060924292253,
          99.49691663420414,
          99.50040272450117,
          99.5163414536267,
          99.49891100214151,
          99.48546117934434,
          99.4718411056257,
          99.4572319551251,
          99.44328759393696,
          99.44295519928073,
          99.45009763079628,
          99.43017016579603,
          99.43149974442093,
          99.3748791522477,
          99.39928989151367,
          99.43050256045225,
          99.45706981139035,
          99.46786047693769,
          99.4756676977657,
          99.46670114923425,
          99.4564050220779,
          99.44511171095284,
          99.44959498521857,
          99.43913671432746,
          99.47433811914078,
          99.49957579145398,
          99.50139990846986,
          99.46736593854672,
          99.46570396526558,
          99.46204762404705,
          99.49060924292253,
          99.50139990846986,
          99.51318775798589,
          99.52015993857995,
          99.5163414536267,
          99.49774356725135,
          99.46570396526558,
          99.454580905062,
          99.45341347017184,
          99.47931593179749,
          99.4798185773752,
          99.48861487498516,
          99.46968459395357,
          99.46271241335951,
          99.466863292969,
          99.47665677454765,
          99.48628811239155,
          99.48246962743829,
          99.47201135654718,
          99.47533530310947,
          99.45689956046887,
          99.48097790507863,
          99.50555078807936,
          99.4929278983294,
          99.49973793518872,
          99.50422120945444,
          99.52165166093961,
          99.53045606573632,
          99.53344761764237,
          99.51833582156407,
          99.51269321959491,
          99.5111933900485,
          99.52281909582979,
          99.5419115205961,
          99.54257630990857,
          99.52381627979847,
          99.51269321959491,
          99.52049233323618,
          99.5332773667209,
          99.53061820947106,
          99.5429087045648,
          99.54157912593988,
          99.55303458079968,
          99.543735637612,
          99.55536134339327,
          99.5703028885501,
          99.57926943708154,
          99.56100394536243,
          99.57130007251878,
          99.59869425650409,
          99.58757119630053,
          99.58474989531595,
          99.58026662105023,
          99.60168580841015,
          99.6138060525824,
          99.60135341375393,
          99.60035622978523,
          99.58026662105023,
          99.57694267448794,
          99.58059901570645,
          99.5937164438474,
          99.58109355409744,
          99.55137260751853,
          99.55054567447132,
          99.56033915604996,
          99.57644813609697,
          99.56930570458141,
          99.59636749391049,
          99.59786732345688,
          99.60981731670765,
          99.62177541714516,
          99.61911625989532,
          99.63323087200496,
          99.6398706579428,
          99.62974478170791,
          99.62990692544267,
          99.61662735356698,
          99.6050016477857,
          99.61396819631715,
          99.62094848409795,
          99.63605217298952,
          99.61895411616058,
          99.62775041377054,
          99.60783105595702,
          99.60666362106684,
          99.61081450067634,
          99.61048210602011,
          99.61247647395749,
          99.64385939381754,
          99.64219742053639,
          99.64651044388063,
          99.65132611280258,
          99.65564724333356,
          99.65298808608372,
          99.62792066469203,
          99.62559390209843,
          99.6275882700358,
          99.62310499577008,
          99.62925024331695,
          99.64368914289605,
          99.6307419656766,
          99.63156889872381,
          99.6403733035205,
          99.63820868466165,
          99.63787629000542,
          99.62061608944173,
          99.63522523994233,
          99.63422805597364,
          99.63622242391101,
          99.66095745064649,
          99.64020305259902,
          99.64219742053639,
          99.63871133023936,
          99.63256608269249,
          99.6219375608799,
          99.616132815176,
          99.6138060525824,
          99.60699601572308,
          99.62659108606711,
          99.63688721322347,
          99.63505498902084,
          99.62077823317647,
          99.59786732345688,
          99.60533404244194,
          99.59105728659756,
          99.58972770797264,
          99.60002383512901,
          99.6018479521449,
          99.59138968125379,
          99.59122753751905,
          99.56997049389388,
          99.5703028885501,
          99.59138968125379,
          99.60168580841015,
          99.59454337689459,
          99.60766080503554,
          99.61862172150435,
          99.62160516622367,
          99.64103809283296,
          99.63937611955181,
          99.63107436033283,
          99.61845147058287,
          99.6413704874892,
          99.6573092166147,
          99.64402153755229,
          99.65116396906784,
          99.64585376175492,
          99.6348928452861,
          99.6372196078797,
          99.62974478170791,
          99.62858545400448,
          99.62625869141088,
          99.62526150744219,
          99.61662735356698,
          99.59869425650409,
          99.58342031669103,
          99.61396819631715,
          99.61712189195795,
          99.62244020645761,
          99.62326713950482,
          99.6413704874892,
          99.63937611955181,
          99.62277260111385,
          99.6388734739741,
          99.63522523994233,
          99.63223368803627,
          99.61961890547305,
          99.61363580166092,
          99.59935904581656,
          99.59736467787917,
          99.61529777494206,
          99.60666362106684,
          99.59853211276935,
          99.58890077492545,
          99.57694267448794,
          99.57561309586302,
          99.54423828318971,
          99.57296204579993,
          99.5671491929093,
          99.5580205006431,
          99.55386962103361,
          99.543735637612,
          99.54855130653395,
          99.55220764775247,
          99.57245940022221,
          99.5410845875489,
          99.54058194197118,
          99.54590025647086,
          99.56050940697145,
          99.56997049389388,
          99.55154285844,
          99.55320483172115,
          99.56100394536243,
          99.559844617659,
          99.55303458079968,
          99.53427455068957,
          99.50704251043902,
          99.50222684151707,
          99.52033018950144,
          99.53693370793941,
          99.56914356084667,
          99.57561309586302,
          99.59487577155083,
          99.59338404919117,
          99.61447084189486,
          99.62061608944173,
          99.62144302248893,
          99.61778668127042,
          99.61944865455156,
          99.57744532006565,
          99.60434496565999,
          99.59387858758214,
          99.57412137350336,
          99.59753492880066,
          99.59986169139427,
          99.71276237389777,
          99.75975162822712,
          99.79993084569713,
          99.79710954471255,
          99.79511517677518,
          99.7891401801498,
          99.82516851801032,
          99.82184457144803,
          99.83795355149502,
          99.8681690364649,
          99.85240055826088,
          99.84758488933893,
          99.84376640438566,
          99.86452080243313,
          99.86019967190215,
          99.8568838325266,
          99.8851049495591,
          99.88743171215272,
          99.82749528060393,
          99.82965179227604,
          99.87613840102766,
          99.89042326405877,
          99.89556322045021,
          99.8925797757309,
          99.9061917422628,
          99.90652413691903,
          99.89673065534039,
          99.90486216363789,
          99.92146568207586,
          99.93657747815418,
          99.95052183934231,
          99.95899384948278,
          99.9603234281077,
          99.96430405679571,
          99.9731084615924,
          100.00332394656229,
          100.0111311673903,
          100.02358380621878,
          100.03138291986005,
          100.01959507034404,
          100.04682711059459,
          100.0700704149704,
          100.05910949850158,
          100.0687408363455,
          100.07023255870516,
          100.07289171595498,
          100.07870456884562,
          100.08982762904918,
          100.06077147178273,
          100.07438343831464,
          100.0549586188921,
          100.05744752522044,
          100.03636073251675,
          100.05579365912604,
          100.05164277951654,
          100.04549753196967,
          100.01229049509374,
          100.02673750185959,
          100.04732164898557,
          100.04250598006362,
          100.06159840482994,
          100.06907323100172,
          100.07504822762711,
          100.07886671258036,
          100.08733872272083,
          100.06973802031418,
          100.09098695675262,
          100.1049394251275,
          100.09879417758063,
          100.10460703047127,
          100.09381636492394,
          100.10460703047127,
          100.09912657223686,
          100.10925244847174,
          100.08600914409593,
          100.09198414072131,
          100.06591953536092,
          100.05579365912604,
          100.04898362226672,
          100.04782429456328,
          100.0476540436418,
          100.07089734801761,
          100.06807604703303,
          100.08368238150231,
          100.08301759218986,
          100.10095068925276,
          100.10012375620555,
          100.10377199023732,
          100.09580262567457,
          100.10825526450304,
          100.11506530136238,
          100.1300068465192,
          100.12254012753415,
          100.12536142851873,
          100.12386159897234,
          100.13017709744068,
          100.10759047519059,
          100.12569382317496,
          100.13499276636263,
          100.14993431151946,
          100.14678061587865,
          100.16902673628579,
          100.16886459255103,
          100.17251282658282,
          100.17815542855197,
          100.19924222125566,
          100.19409415767748,
          100.181641518849,
          100.17085085330167,
          100.16172216103548,
          100.17301547216053,
          100.17749063923951,
          100.17732849550477,
          100.18928659594228,
          100.1912728566929,
          100.1922700406616,
          100.1857923984585,
          100.18247655908294,
          100.19575613095863,
          100.19060806738045,
          100.19492919791142,
          100.185468110989,
          100.19077831830194,
          100.18596264937999,
          100.16836194697332,
          100.16404892362908,
          100.14594557564472,
          100.15441758578518,
          100.15258536158255,
          100.16404892362908,
          100.1839682814426,
          100.18629504403621,
          100.19077831830194,
          100.19094046203668,
          100.20207162942698,
          100.21584573969363,
          100.23079539203721,
          100.2188372915997,
          100.21999661930313,
          100.24374256925665,
          100.25519802411645,
          100.25403869641302,
          100.26931263622608,
          100.28225981344552,
          100.27877372314849,
          100.26815330852264,
          100.26018394395989,
          100.26034608769463,
          100.26449696730413,
          100.25801932510103,
          100.25237672313187,
          100.23610559935013,
          100.24208059597551,
          100.25901650906971,
          100.26848570317887,
          100.2751254891167,
          100.28940224496108,
          100.30285206775825,
          100.31945558619621,
          100.31215101094593,
          100.29919572653972,
          100.2920614022109,
          100.28491897069536,
          100.29056157266452,
          100.29703921486761,
          100.29819854257104,
          100.29919572653972,
          100.32294167649326,
          100.32825188380617,
          100.33605910463419,
          100.32659801771177,
          100.3254305828216,
          100.32111755947736,
          100.29853093722727,
          100.27246633186688,
          100.3035168570707,
          100.29404766296155,
          100.27910611780472,
          100.26482936196035,
          100.27163939881967,
          100.28093834200735,
          100.30600576339906,
          100.31198076002444,
          100.32493604443063,
          100.33240276341567,
          100.34087477355614,
          100.34684977018152,
          100.34352582361923,
          100.33838586722779,
          100.33257301433716,
          100.32327407114948,
          100.32376860954045,
          100.3189529406185,
          100.32526843908686,
          100.32427125511816,
          100.32709255610274,
          100.32642776679029,
          100.32028251924342,
          100.32376860954045,
          100.32825188380617,
          100.34253674683728,
          100.33124343571224,
          100.303014211493,
          100.29089396732074,
          100.28225981344552,
          100.22032901395936,
          100.21899943533444,
          100.20555771972401,
          100.20173923477076,
          100.18745437173965
         ],
         "yaxis": "y"
        }
       ],
       "layout": {
        "legend": {
         "tracegroupgap": 0
        },
        "margin": {
         "t": 60
        },
        "template": {
         "data": {
          "bar": [
           {
            "error_x": {
             "color": "#2a3f5f"
            },
            "error_y": {
             "color": "#2a3f5f"
            },
            "marker": {
             "line": {
              "color": "#E5ECF6",
              "width": 0.5
             },
             "pattern": {
              "fillmode": "overlay",
              "size": 10,
              "solidity": 0.2
             }
            },
            "type": "bar"
           }
          ],
          "barpolar": [
           {
            "marker": {
             "line": {
              "color": "#E5ECF6",
              "width": 0.5
             },
             "pattern": {
              "fillmode": "overlay",
              "size": 10,
              "solidity": 0.2
             }
            },
            "type": "barpolar"
           }
          ],
          "carpet": [
           {
            "aaxis": {
             "endlinecolor": "#2a3f5f",
             "gridcolor": "white",
             "linecolor": "white",
             "minorgridcolor": "white",
             "startlinecolor": "#2a3f5f"
            },
            "baxis": {
             "endlinecolor": "#2a3f5f",
             "gridcolor": "white",
             "linecolor": "white",
             "minorgridcolor": "white",
             "startlinecolor": "#2a3f5f"
            },
            "type": "carpet"
           }
          ],
          "choropleth": [
           {
            "colorbar": {
             "outlinewidth": 0,
             "ticks": ""
            },
            "type": "choropleth"
           }
          ],
          "contour": [
           {
            "colorbar": {
             "outlinewidth": 0,
             "ticks": ""
            },
            "colorscale": [
             [
              0,
              "#0d0887"
             ],
             [
              0.1111111111111111,
              "#46039f"
             ],
             [
              0.2222222222222222,
              "#7201a8"
             ],
             [
              0.3333333333333333,
              "#9c179e"
             ],
             [
              0.4444444444444444,
              "#bd3786"
             ],
             [
              0.5555555555555556,
              "#d8576b"
             ],
             [
              0.6666666666666666,
              "#ed7953"
             ],
             [
              0.7777777777777778,
              "#fb9f3a"
             ],
             [
              0.8888888888888888,
              "#fdca26"
             ],
             [
              1,
              "#f0f921"
             ]
            ],
            "type": "contour"
           }
          ],
          "contourcarpet": [
           {
            "colorbar": {
             "outlinewidth": 0,
             "ticks": ""
            },
            "type": "contourcarpet"
           }
          ],
          "heatmap": [
           {
            "colorbar": {
             "outlinewidth": 0,
             "ticks": ""
            },
            "colorscale": [
             [
              0,
              "#0d0887"
             ],
             [
              0.1111111111111111,
              "#46039f"
             ],
             [
              0.2222222222222222,
              "#7201a8"
             ],
             [
              0.3333333333333333,
              "#9c179e"
             ],
             [
              0.4444444444444444,
              "#bd3786"
             ],
             [
              0.5555555555555556,
              "#d8576b"
             ],
             [
              0.6666666666666666,
              "#ed7953"
             ],
             [
              0.7777777777777778,
              "#fb9f3a"
             ],
             [
              0.8888888888888888,
              "#fdca26"
             ],
             [
              1,
              "#f0f921"
             ]
            ],
            "type": "heatmap"
           }
          ],
          "heatmapgl": [
           {
            "colorbar": {
             "outlinewidth": 0,
             "ticks": ""
            },
            "colorscale": [
             [
              0,
              "#0d0887"
             ],
             [
              0.1111111111111111,
              "#46039f"
             ],
             [
              0.2222222222222222,
              "#7201a8"
             ],
             [
              0.3333333333333333,
              "#9c179e"
             ],
             [
              0.4444444444444444,
              "#bd3786"
             ],
             [
              0.5555555555555556,
              "#d8576b"
             ],
             [
              0.6666666666666666,
              "#ed7953"
             ],
             [
              0.7777777777777778,
              "#fb9f3a"
             ],
             [
              0.8888888888888888,
              "#fdca26"
             ],
             [
              1,
              "#f0f921"
             ]
            ],
            "type": "heatmapgl"
           }
          ],
          "histogram": [
           {
            "marker": {
             "pattern": {
              "fillmode": "overlay",
              "size": 10,
              "solidity": 0.2
             }
            },
            "type": "histogram"
           }
          ],
          "histogram2d": [
           {
            "colorbar": {
             "outlinewidth": 0,
             "ticks": ""
            },
            "colorscale": [
             [
              0,
              "#0d0887"
             ],
             [
              0.1111111111111111,
              "#46039f"
             ],
             [
              0.2222222222222222,
              "#7201a8"
             ],
             [
              0.3333333333333333,
              "#9c179e"
             ],
             [
              0.4444444444444444,
              "#bd3786"
             ],
             [
              0.5555555555555556,
              "#d8576b"
             ],
             [
              0.6666666666666666,
              "#ed7953"
             ],
             [
              0.7777777777777778,
              "#fb9f3a"
             ],
             [
              0.8888888888888888,
              "#fdca26"
             ],
             [
              1,
              "#f0f921"
             ]
            ],
            "type": "histogram2d"
           }
          ],
          "histogram2dcontour": [
           {
            "colorbar": {
             "outlinewidth": 0,
             "ticks": ""
            },
            "colorscale": [
             [
              0,
              "#0d0887"
             ],
             [
              0.1111111111111111,
              "#46039f"
             ],
             [
              0.2222222222222222,
              "#7201a8"
             ],
             [
              0.3333333333333333,
              "#9c179e"
             ],
             [
              0.4444444444444444,
              "#bd3786"
             ],
             [
              0.5555555555555556,
              "#d8576b"
             ],
             [
              0.6666666666666666,
              "#ed7953"
             ],
             [
              0.7777777777777778,
              "#fb9f3a"
             ],
             [
              0.8888888888888888,
              "#fdca26"
             ],
             [
              1,
              "#f0f921"
             ]
            ],
            "type": "histogram2dcontour"
           }
          ],
          "mesh3d": [
           {
            "colorbar": {
             "outlinewidth": 0,
             "ticks": ""
            },
            "type": "mesh3d"
           }
          ],
          "parcoords": [
           {
            "line": {
             "colorbar": {
              "outlinewidth": 0,
              "ticks": ""
             }
            },
            "type": "parcoords"
           }
          ],
          "pie": [
           {
            "automargin": true,
            "type": "pie"
           }
          ],
          "scatter": [
           {
            "fillpattern": {
             "fillmode": "overlay",
             "size": 10,
             "solidity": 0.2
            },
            "type": "scatter"
           }
          ],
          "scatter3d": [
           {
            "line": {
             "colorbar": {
              "outlinewidth": 0,
              "ticks": ""
             }
            },
            "marker": {
             "colorbar": {
              "outlinewidth": 0,
              "ticks": ""
             }
            },
            "type": "scatter3d"
           }
          ],
          "scattercarpet": [
           {
            "marker": {
             "colorbar": {
              "outlinewidth": 0,
              "ticks": ""
             }
            },
            "type": "scattercarpet"
           }
          ],
          "scattergeo": [
           {
            "marker": {
             "colorbar": {
              "outlinewidth": 0,
              "ticks": ""
             }
            },
            "type": "scattergeo"
           }
          ],
          "scattergl": [
           {
            "marker": {
             "colorbar": {
              "outlinewidth": 0,
              "ticks": ""
             }
            },
            "type": "scattergl"
           }
          ],
          "scattermapbox": [
           {
            "marker": {
             "colorbar": {
              "outlinewidth": 0,
              "ticks": ""
             }
            },
            "type": "scattermapbox"
           }
          ],
          "scatterpolar": [
           {
            "marker": {
             "colorbar": {
              "outlinewidth": 0,
              "ticks": ""
             }
            },
            "type": "scatterpolar"
           }
          ],
          "scatterpolargl": [
           {
            "marker": {
             "colorbar": {
              "outlinewidth": 0,
              "ticks": ""
             }
            },
            "type": "scatterpolargl"
           }
          ],
          "scatterternary": [
           {
            "marker": {
             "colorbar": {
              "outlinewidth": 0,
              "ticks": ""
             }
            },
            "type": "scatterternary"
           }
          ],
          "surface": [
           {
            "colorbar": {
             "outlinewidth": 0,
             "ticks": ""
            },
            "colorscale": [
             [
              0,
              "#0d0887"
             ],
             [
              0.1111111111111111,
              "#46039f"
             ],
             [
              0.2222222222222222,
              "#7201a8"
             ],
             [
              0.3333333333333333,
              "#9c179e"
             ],
             [
              0.4444444444444444,
              "#bd3786"
             ],
             [
              0.5555555555555556,
              "#d8576b"
             ],
             [
              0.6666666666666666,
              "#ed7953"
             ],
             [
              0.7777777777777778,
              "#fb9f3a"
             ],
             [
              0.8888888888888888,
              "#fdca26"
             ],
             [
              1,
              "#f0f921"
             ]
            ],
            "type": "surface"
           }
          ],
          "table": [
           {
            "cells": {
             "fill": {
              "color": "#EBF0F8"
             },
             "line": {
              "color": "white"
             }
            },
            "header": {
             "fill": {
              "color": "#C8D4E3"
             },
             "line": {
              "color": "white"
             }
            },
            "type": "table"
           }
          ]
         },
         "layout": {
          "annotationdefaults": {
           "arrowcolor": "#2a3f5f",
           "arrowhead": 0,
           "arrowwidth": 1
          },
          "autotypenumbers": "strict",
          "coloraxis": {
           "colorbar": {
            "outlinewidth": 0,
            "ticks": ""
           }
          },
          "colorscale": {
           "diverging": [
            [
             0,
             "#8e0152"
            ],
            [
             0.1,
             "#c51b7d"
            ],
            [
             0.2,
             "#de77ae"
            ],
            [
             0.3,
             "#f1b6da"
            ],
            [
             0.4,
             "#fde0ef"
            ],
            [
             0.5,
             "#f7f7f7"
            ],
            [
             0.6,
             "#e6f5d0"
            ],
            [
             0.7,
             "#b8e186"
            ],
            [
             0.8,
             "#7fbc41"
            ],
            [
             0.9,
             "#4d9221"
            ],
            [
             1,
             "#276419"
            ]
           ],
           "sequential": [
            [
             0,
             "#0d0887"
            ],
            [
             0.1111111111111111,
             "#46039f"
            ],
            [
             0.2222222222222222,
             "#7201a8"
            ],
            [
             0.3333333333333333,
             "#9c179e"
            ],
            [
             0.4444444444444444,
             "#bd3786"
            ],
            [
             0.5555555555555556,
             "#d8576b"
            ],
            [
             0.6666666666666666,
             "#ed7953"
            ],
            [
             0.7777777777777778,
             "#fb9f3a"
            ],
            [
             0.8888888888888888,
             "#fdca26"
            ],
            [
             1,
             "#f0f921"
            ]
           ],
           "sequentialminus": [
            [
             0,
             "#0d0887"
            ],
            [
             0.1111111111111111,
             "#46039f"
            ],
            [
             0.2222222222222222,
             "#7201a8"
            ],
            [
             0.3333333333333333,
             "#9c179e"
            ],
            [
             0.4444444444444444,
             "#bd3786"
            ],
            [
             0.5555555555555556,
             "#d8576b"
            ],
            [
             0.6666666666666666,
             "#ed7953"
            ],
            [
             0.7777777777777778,
             "#fb9f3a"
            ],
            [
             0.8888888888888888,
             "#fdca26"
            ],
            [
             1,
             "#f0f921"
            ]
           ]
          },
          "colorway": [
           "#636efa",
           "#EF553B",
           "#00cc96",
           "#ab63fa",
           "#FFA15A",
           "#19d3f3",
           "#FF6692",
           "#B6E880",
           "#FF97FF",
           "#FECB52"
          ],
          "font": {
           "color": "#2a3f5f"
          },
          "geo": {
           "bgcolor": "white",
           "lakecolor": "white",
           "landcolor": "#E5ECF6",
           "showlakes": true,
           "showland": true,
           "subunitcolor": "white"
          },
          "hoverlabel": {
           "align": "left"
          },
          "hovermode": "closest",
          "mapbox": {
           "style": "light"
          },
          "paper_bgcolor": "white",
          "plot_bgcolor": "#E5ECF6",
          "polar": {
           "angularaxis": {
            "gridcolor": "white",
            "linecolor": "white",
            "ticks": ""
           },
           "bgcolor": "#E5ECF6",
           "radialaxis": {
            "gridcolor": "white",
            "linecolor": "white",
            "ticks": ""
           }
          },
          "scene": {
           "xaxis": {
            "backgroundcolor": "#E5ECF6",
            "gridcolor": "white",
            "gridwidth": 2,
            "linecolor": "white",
            "showbackground": true,
            "ticks": "",
            "zerolinecolor": "white"
           },
           "yaxis": {
            "backgroundcolor": "#E5ECF6",
            "gridcolor": "white",
            "gridwidth": 2,
            "linecolor": "white",
            "showbackground": true,
            "ticks": "",
            "zerolinecolor": "white"
           },
           "zaxis": {
            "backgroundcolor": "#E5ECF6",
            "gridcolor": "white",
            "gridwidth": 2,
            "linecolor": "white",
            "showbackground": true,
            "ticks": "",
            "zerolinecolor": "white"
           }
          },
          "shapedefaults": {
           "line": {
            "color": "#2a3f5f"
           }
          },
          "ternary": {
           "aaxis": {
            "gridcolor": "white",
            "linecolor": "white",
            "ticks": ""
           },
           "baxis": {
            "gridcolor": "white",
            "linecolor": "white",
            "ticks": ""
           },
           "bgcolor": "#E5ECF6",
           "caxis": {
            "gridcolor": "white",
            "linecolor": "white",
            "ticks": ""
           }
          },
          "title": {
           "x": 0.05
          },
          "xaxis": {
           "automargin": true,
           "gridcolor": "white",
           "linecolor": "white",
           "ticks": "",
           "title": {
            "standoff": 15
           },
           "zerolinecolor": "white",
           "zerolinewidth": 2
          },
          "yaxis": {
           "automargin": true,
           "gridcolor": "white",
           "linecolor": "white",
           "ticks": "",
           "title": {
            "standoff": 15
           },
           "zerolinecolor": "white",
           "zerolinewidth": 2
          }
         }
        },
        "title": {
         "text": "SNP&500 GROWTH Minute Data since 2024-11-26T15:58:00.000000000"
        },
        "xaxis": {
         "anchor": "y",
         "domain": [
          0,
          1
         ],
         "title": {
          "text": "Datetime"
         }
        },
        "yaxis": {
         "anchor": "x",
         "domain": [
          0,
          1
         ],
         "title": {
          "text": "Growth"
         }
        }
       }
      }
     },
     "metadata": {},
     "output_type": "display_data"
    }
   ],
   "source": [
    "# Plotting the line plot using plotly express\n",
    "fig = px.line(df, x=df.index, y='Growth')\n",
    "fig.update_layout(title = f\"SNP&500 GROWTH Minute Data since {first_datetime}\")\n"
   ]
  },
  {
   "cell_type": "code",
   "execution_count": 34,
   "metadata": {},
   "outputs": [
    {
     "data": {
      "text/html": [
       "<div>\n",
       "<style scoped>\n",
       "    .dataframe tbody tr th:only-of-type {\n",
       "        vertical-align: middle;\n",
       "    }\n",
       "\n",
       "    .dataframe tbody tr th {\n",
       "        vertical-align: top;\n",
       "    }\n",
       "\n",
       "    .dataframe thead th {\n",
       "        text-align: right;\n",
       "    }\n",
       "</style>\n",
       "<table border=\"1\" class=\"dataframe\">\n",
       "  <thead>\n",
       "    <tr style=\"text-align: right;\">\n",
       "      <th></th>\n",
       "      <th>Open</th>\n",
       "      <th>High</th>\n",
       "      <th>Low</th>\n",
       "      <th>Close</th>\n",
       "      <th>Volume</th>\n",
       "      <th>Dividends</th>\n",
       "      <th>Stock Splits</th>\n",
       "      <th>Growth</th>\n",
       "    </tr>\n",
       "    <tr>\n",
       "      <th>Datetime</th>\n",
       "      <th></th>\n",
       "      <th></th>\n",
       "      <th></th>\n",
       "      <th></th>\n",
       "      <th></th>\n",
       "      <th></th>\n",
       "      <th></th>\n",
       "      <th></th>\n",
       "    </tr>\n",
       "  </thead>\n",
       "  <tbody>\n",
       "    <tr>\n",
       "      <th>2024-11-29 12:55:00</th>\n",
       "      <td>6040.000000</td>\n",
       "      <td>6040.000000</td>\n",
       "      <td>6034.950195</td>\n",
       "      <td>6036.089844</td>\n",
       "      <td>17010236</td>\n",
       "      <td>0.0</td>\n",
       "      <td>0.0</td>\n",
       "      <td>100.220329</td>\n",
       "    </tr>\n",
       "    <tr>\n",
       "      <th>2024-11-29 12:56:00</th>\n",
       "      <td>6036.399902</td>\n",
       "      <td>6036.589844</td>\n",
       "      <td>6034.870117</td>\n",
       "      <td>6036.009766</td>\n",
       "      <td>13330662</td>\n",
       "      <td>0.0</td>\n",
       "      <td>0.0</td>\n",
       "      <td>100.218999</td>\n",
       "    </tr>\n",
       "    <tr>\n",
       "      <th>2024-11-29 12:57:00</th>\n",
       "      <td>6035.919922</td>\n",
       "      <td>6035.979980</td>\n",
       "      <td>6034.529785</td>\n",
       "      <td>6035.200195</td>\n",
       "      <td>16207178</td>\n",
       "      <td>0.0</td>\n",
       "      <td>0.0</td>\n",
       "      <td>100.205558</td>\n",
       "    </tr>\n",
       "    <tr>\n",
       "      <th>2024-11-29 12:58:00</th>\n",
       "      <td>6035.169922</td>\n",
       "      <td>6036.819824</td>\n",
       "      <td>6034.970215</td>\n",
       "      <td>6034.970215</td>\n",
       "      <td>19862608</td>\n",
       "      <td>0.0</td>\n",
       "      <td>0.0</td>\n",
       "      <td>100.201739</td>\n",
       "    </tr>\n",
       "    <tr>\n",
       "      <th>2024-11-29 12:59:00</th>\n",
       "      <td>6034.979980</td>\n",
       "      <td>6035.879883</td>\n",
       "      <td>6033.319824</td>\n",
       "      <td>6034.109863</td>\n",
       "      <td>43307000</td>\n",
       "      <td>0.0</td>\n",
       "      <td>0.0</td>\n",
       "      <td>100.187454</td>\n",
       "    </tr>\n",
       "  </tbody>\n",
       "</table>\n",
       "</div>"
      ],
      "text/plain": [
       "                            Open         High          Low        Close  \\\n",
       "Datetime                                                                  \n",
       "2024-11-29 12:55:00  6040.000000  6040.000000  6034.950195  6036.089844   \n",
       "2024-11-29 12:56:00  6036.399902  6036.589844  6034.870117  6036.009766   \n",
       "2024-11-29 12:57:00  6035.919922  6035.979980  6034.529785  6035.200195   \n",
       "2024-11-29 12:58:00  6035.169922  6036.819824  6034.970215  6034.970215   \n",
       "2024-11-29 12:59:00  6034.979980  6035.879883  6033.319824  6034.109863   \n",
       "\n",
       "                       Volume  Dividends  Stock Splits      Growth  \n",
       "Datetime                                                            \n",
       "2024-11-29 12:55:00  17010236        0.0           0.0  100.220329  \n",
       "2024-11-29 12:56:00  13330662        0.0           0.0  100.218999  \n",
       "2024-11-29 12:57:00  16207178        0.0           0.0  100.205558  \n",
       "2024-11-29 12:58:00  19862608        0.0           0.0  100.201739  \n",
       "2024-11-29 12:59:00  43307000        0.0           0.0  100.187454  "
      ]
     },
     "execution_count": 34,
     "metadata": {},
     "output_type": "execute_result"
    }
   ],
   "source": [
    "# lat values as a table\n",
    "df.tail()"
   ]
  },
  {
   "cell_type": "markdown",
   "metadata": {},
   "source": [
    "## 4) Saving to a file/DB and reading from it"
   ]
  },
  {
   "cell_type": "code",
   "execution_count": null,
   "metadata": {},
   "outputs": [],
   "source": [
    "# Saving data to a file\n",
    "from sqlalchemy import create_engine\n",
    "import os\n",
    "\n",
    "# Directory to save data\n",
    "DATA_DIR = '../data'\n",
    "\n",
    "# Ensure data directory exists\n",
    "os.makedirs(DATA_DIR, exist_ok=True)\n",
    "\n",
    "# SQLite database path\n",
    "DB_PATH = os.path.join(DATA_DIR, 'test_db.db')\n",
    "\n",
    "# Create SQLAlchemy engine\n",
    "engine = create_engine(f'sqlite:///{DB_PATH}')"
   ]
  },
  {
   "cell_type": "code",
   "execution_count": 36,
   "metadata": {},
   "outputs": [
    {
     "name": "stdout",
     "output_type": "stream",
     "text": [
      "\n",
      "Saving data to files/DB...\n"
     ]
    },
    {
     "data": {
      "text/plain": [
       "600"
      ]
     },
     "execution_count": 36,
     "metadata": {},
     "output_type": "execute_result"
    }
   ],
   "source": [
    "# Save to parquet and SQLite\n",
    "print(\"\\nSaving data to files/DB...\")\n",
    "table_name = 'snp_500_minute_yfinance'\n",
    "# Save to parquet\n",
    "df.to_parquet(os.path.join(DATA_DIR, f'{table_name}.parquet'))\n",
    "\n",
    "# Save to SQLite\n",
    "df.to_sql(f'{table_name}', engine, if_exists='replace')\n"
   ]
  },
  {
   "cell_type": "code",
   "execution_count": 37,
   "metadata": {},
   "outputs": [
    {
     "data": {
      "text/html": [
       "<div>\n",
       "<style scoped>\n",
       "    .dataframe tbody tr th:only-of-type {\n",
       "        vertical-align: middle;\n",
       "    }\n",
       "\n",
       "    .dataframe tbody tr th {\n",
       "        vertical-align: top;\n",
       "    }\n",
       "\n",
       "    .dataframe thead th {\n",
       "        text-align: right;\n",
       "    }\n",
       "</style>\n",
       "<table border=\"1\" class=\"dataframe\">\n",
       "  <thead>\n",
       "    <tr style=\"text-align: right;\">\n",
       "      <th></th>\n",
       "      <th>Open</th>\n",
       "      <th>High</th>\n",
       "      <th>Low</th>\n",
       "      <th>Close</th>\n",
       "      <th>Volume</th>\n",
       "      <th>Dividends</th>\n",
       "      <th>Stock Splits</th>\n",
       "      <th>Growth</th>\n",
       "    </tr>\n",
       "    <tr>\n",
       "      <th>Datetime</th>\n",
       "      <th></th>\n",
       "      <th></th>\n",
       "      <th></th>\n",
       "      <th></th>\n",
       "      <th></th>\n",
       "      <th></th>\n",
       "      <th></th>\n",
       "      <th></th>\n",
       "    </tr>\n",
       "  </thead>\n",
       "  <tbody>\n",
       "    <tr>\n",
       "      <th>2024-11-26 15:58:00</th>\n",
       "      <td>6021.709961</td>\n",
       "      <td>6022.819824</td>\n",
       "      <td>6021.140137</td>\n",
       "      <td>6022.819824</td>\n",
       "      <td>0</td>\n",
       "      <td>0.0</td>\n",
       "      <td>0.0</td>\n",
       "      <td>100.000000</td>\n",
       "    </tr>\n",
       "    <tr>\n",
       "      <th>2024-11-26 15:59:00</th>\n",
       "      <td>6023.069824</td>\n",
       "      <td>6023.350098</td>\n",
       "      <td>6020.279785</td>\n",
       "      <td>6020.740234</td>\n",
       "      <td>60227000</td>\n",
       "      <td>0.0</td>\n",
       "      <td>0.0</td>\n",
       "      <td>99.965471</td>\n",
       "    </tr>\n",
       "    <tr>\n",
       "      <th>2024-11-27 09:30:00</th>\n",
       "      <td>6014.109863</td>\n",
       "      <td>6015.509766</td>\n",
       "      <td>6010.939941</td>\n",
       "      <td>6011.359863</td>\n",
       "      <td>0</td>\n",
       "      <td>0.0</td>\n",
       "      <td>0.0</td>\n",
       "      <td>99.809724</td>\n",
       "    </tr>\n",
       "    <tr>\n",
       "      <th>2024-11-27 09:31:00</th>\n",
       "      <td>6011.169922</td>\n",
       "      <td>6012.169922</td>\n",
       "      <td>6009.339844</td>\n",
       "      <td>6011.549805</td>\n",
       "      <td>11999520</td>\n",
       "      <td>0.0</td>\n",
       "      <td>0.0</td>\n",
       "      <td>99.812878</td>\n",
       "    </tr>\n",
       "    <tr>\n",
       "      <th>2024-11-27 09:32:00</th>\n",
       "      <td>6011.439941</td>\n",
       "      <td>6013.339844</td>\n",
       "      <td>6010.660156</td>\n",
       "      <td>6013.339844</td>\n",
       "      <td>9084764</td>\n",
       "      <td>0.0</td>\n",
       "      <td>0.0</td>\n",
       "      <td>99.842599</td>\n",
       "    </tr>\n",
       "  </tbody>\n",
       "</table>\n",
       "</div>"
      ],
      "text/plain": [
       "                            Open         High          Low        Close  \\\n",
       "Datetime                                                                  \n",
       "2024-11-26 15:58:00  6021.709961  6022.819824  6021.140137  6022.819824   \n",
       "2024-11-26 15:59:00  6023.069824  6023.350098  6020.279785  6020.740234   \n",
       "2024-11-27 09:30:00  6014.109863  6015.509766  6010.939941  6011.359863   \n",
       "2024-11-27 09:31:00  6011.169922  6012.169922  6009.339844  6011.549805   \n",
       "2024-11-27 09:32:00  6011.439941  6013.339844  6010.660156  6013.339844   \n",
       "\n",
       "                       Volume  Dividends  Stock Splits      Growth  \n",
       "Datetime                                                            \n",
       "2024-11-26 15:58:00         0        0.0           0.0  100.000000  \n",
       "2024-11-26 15:59:00  60227000        0.0           0.0   99.965471  \n",
       "2024-11-27 09:30:00         0        0.0           0.0   99.809724  \n",
       "2024-11-27 09:31:00  11999520        0.0           0.0   99.812878  \n",
       "2024-11-27 09:32:00   9084764        0.0           0.0   99.842599  "
      ]
     },
     "execution_count": 37,
     "metadata": {},
     "output_type": "execute_result"
    }
   ],
   "source": [
    "df2 = pd.read_parquet(os.path.join(DATA_DIR, f'{table_name}.parquet'))\n",
    "\n",
    "df2.head()"
   ]
  },
  {
   "cell_type": "code",
   "execution_count": 38,
   "metadata": {},
   "outputs": [
    {
     "data": {
      "text/html": [
       "<div>\n",
       "<style scoped>\n",
       "    .dataframe tbody tr th:only-of-type {\n",
       "        vertical-align: middle;\n",
       "    }\n",
       "\n",
       "    .dataframe tbody tr th {\n",
       "        vertical-align: top;\n",
       "    }\n",
       "\n",
       "    .dataframe thead th {\n",
       "        text-align: right;\n",
       "    }\n",
       "</style>\n",
       "<table border=\"1\" class=\"dataframe\">\n",
       "  <thead>\n",
       "    <tr style=\"text-align: right;\">\n",
       "      <th></th>\n",
       "      <th>Datetime</th>\n",
       "      <th>Open</th>\n",
       "      <th>High</th>\n",
       "      <th>Low</th>\n",
       "      <th>Close</th>\n",
       "      <th>Volume</th>\n",
       "      <th>Dividends</th>\n",
       "      <th>Stock Splits</th>\n",
       "      <th>Growth</th>\n",
       "    </tr>\n",
       "  </thead>\n",
       "  <tbody>\n",
       "    <tr>\n",
       "      <th>0</th>\n",
       "      <td>2024-11-26 15:58:00</td>\n",
       "      <td>6021.709961</td>\n",
       "      <td>6022.819824</td>\n",
       "      <td>6021.140137</td>\n",
       "      <td>6022.819824</td>\n",
       "      <td>0</td>\n",
       "      <td>0.0</td>\n",
       "      <td>0.0</td>\n",
       "      <td>100.000000</td>\n",
       "    </tr>\n",
       "    <tr>\n",
       "      <th>1</th>\n",
       "      <td>2024-11-26 15:59:00</td>\n",
       "      <td>6023.069824</td>\n",
       "      <td>6023.350098</td>\n",
       "      <td>6020.279785</td>\n",
       "      <td>6020.740234</td>\n",
       "      <td>60227000</td>\n",
       "      <td>0.0</td>\n",
       "      <td>0.0</td>\n",
       "      <td>99.965471</td>\n",
       "    </tr>\n",
       "    <tr>\n",
       "      <th>2</th>\n",
       "      <td>2024-11-27 09:30:00</td>\n",
       "      <td>6014.109863</td>\n",
       "      <td>6015.509766</td>\n",
       "      <td>6010.939941</td>\n",
       "      <td>6011.359863</td>\n",
       "      <td>0</td>\n",
       "      <td>0.0</td>\n",
       "      <td>0.0</td>\n",
       "      <td>99.809724</td>\n",
       "    </tr>\n",
       "    <tr>\n",
       "      <th>3</th>\n",
       "      <td>2024-11-27 09:31:00</td>\n",
       "      <td>6011.169922</td>\n",
       "      <td>6012.169922</td>\n",
       "      <td>6009.339844</td>\n",
       "      <td>6011.549805</td>\n",
       "      <td>11999520</td>\n",
       "      <td>0.0</td>\n",
       "      <td>0.0</td>\n",
       "      <td>99.812878</td>\n",
       "    </tr>\n",
       "    <tr>\n",
       "      <th>4</th>\n",
       "      <td>2024-11-27 09:32:00</td>\n",
       "      <td>6011.439941</td>\n",
       "      <td>6013.339844</td>\n",
       "      <td>6010.660156</td>\n",
       "      <td>6013.339844</td>\n",
       "      <td>9084764</td>\n",
       "      <td>0.0</td>\n",
       "      <td>0.0</td>\n",
       "      <td>99.842599</td>\n",
       "    </tr>\n",
       "  </tbody>\n",
       "</table>\n",
       "</div>"
      ],
      "text/plain": [
       "             Datetime         Open         High          Low        Close  \\\n",
       "0 2024-11-26 15:58:00  6021.709961  6022.819824  6021.140137  6022.819824   \n",
       "1 2024-11-26 15:59:00  6023.069824  6023.350098  6020.279785  6020.740234   \n",
       "2 2024-11-27 09:30:00  6014.109863  6015.509766  6010.939941  6011.359863   \n",
       "3 2024-11-27 09:31:00  6011.169922  6012.169922  6009.339844  6011.549805   \n",
       "4 2024-11-27 09:32:00  6011.439941  6013.339844  6010.660156  6013.339844   \n",
       "\n",
       "     Volume  Dividends  Stock Splits      Growth  \n",
       "0         0        0.0           0.0  100.000000  \n",
       "1  60227000        0.0           0.0   99.965471  \n",
       "2         0        0.0           0.0   99.809724  \n",
       "3  11999520        0.0           0.0   99.812878  \n",
       "4   9084764        0.0           0.0   99.842599  "
      ]
     },
     "execution_count": 38,
     "metadata": {},
     "output_type": "execute_result"
    }
   ],
   "source": [
    "df_from_db = pd.read_sql(table_name, engine) \n",
    "\n",
    "df_from_db.head()"
   ]
  }
 ],
 "metadata": {
  "kernelspec": {
   "display_name": "venv",
   "language": "python",
   "name": "python3"
  },
  "language_info": {
   "codemirror_mode": {
    "name": "ipython",
    "version": 3
   },
   "file_extension": ".py",
   "mimetype": "text/x-python",
   "name": "python",
   "nbconvert_exporter": "python",
   "pygments_lexer": "ipython3",
   "version": "3.11.10"
  }
 },
 "nbformat": 4,
 "nbformat_minor": 2
}
